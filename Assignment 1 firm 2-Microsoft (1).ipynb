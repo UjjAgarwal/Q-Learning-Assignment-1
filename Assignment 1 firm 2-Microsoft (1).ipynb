{
 "cells": [
  {
   "cell_type": "code",
   "execution_count": 372,
   "metadata": {},
   "outputs": [],
   "source": [
    "import math\n",
    "import matplotlib\n",
    "import numpy as np\n",
    "import pandas as pd\n",
    "import time\n",
    "from sklearn import metrics\n",
    "from sklearn.metrics import r2_score\n",
    "from datetime import date, datetime, time\n",
    "from matplotlib import pyplot as plt\n",
    "\n",
    "np.warnings.filterwarnings('ignore')\n",
    "\n",
    "%matplotlib inline"
   ]
  },
  {
   "cell_type": "code",
   "execution_count": null,
   "metadata": {},
   "outputs": [],
   "source": [
    "#When making scatter plot for prediction and test we want the points to be close to the 45 degree line \n",
    "#or y=x line as it indicated a more accurate prediction."
   ]
  },
  {
   "cell_type": "markdown",
   "metadata": {},
   "source": [
    "## 1)Linear Regression"
   ]
  },
  {
   "cell_type": "code",
   "execution_count": 373,
   "metadata": {},
   "outputs": [],
   "source": [
    "df = pd.read_csv(r'C:\\Users\\vkumar\\Downloads\\MSFT.csv')"
   ]
  },
  {
   "cell_type": "code",
   "execution_count": 374,
   "metadata": {},
   "outputs": [
    {
     "data": {
      "text/html": [
       "<div>\n",
       "<style scoped>\n",
       "    .dataframe tbody tr th:only-of-type {\n",
       "        vertical-align: middle;\n",
       "    }\n",
       "\n",
       "    .dataframe tbody tr th {\n",
       "        vertical-align: top;\n",
       "    }\n",
       "\n",
       "    .dataframe thead th {\n",
       "        text-align: right;\n",
       "    }\n",
       "</style>\n",
       "<table border=\"1\" class=\"dataframe\">\n",
       "  <thead>\n",
       "    <tr style=\"text-align: right;\">\n",
       "      <th></th>\n",
       "      <th>Date</th>\n",
       "      <th>Open</th>\n",
       "      <th>High</th>\n",
       "      <th>Low</th>\n",
       "      <th>Close</th>\n",
       "      <th>Adj_Close</th>\n",
       "      <th>Volume</th>\n",
       "    </tr>\n",
       "  </thead>\n",
       "  <tbody>\n",
       "    <tr>\n",
       "      <th>0</th>\n",
       "      <td>2011-07-01</td>\n",
       "      <td>25.930000</td>\n",
       "      <td>28.150000</td>\n",
       "      <td>25.840000</td>\n",
       "      <td>27.400000</td>\n",
       "      <td>21.955933</td>\n",
       "      <td>1259328200</td>\n",
       "    </tr>\n",
       "    <tr>\n",
       "      <th>1</th>\n",
       "      <td>2011-08-01</td>\n",
       "      <td>27.510000</td>\n",
       "      <td>27.690001</td>\n",
       "      <td>23.790001</td>\n",
       "      <td>26.600000</td>\n",
       "      <td>21.314878</td>\n",
       "      <td>1719339500</td>\n",
       "    </tr>\n",
       "    <tr>\n",
       "      <th>2</th>\n",
       "      <td>2011-09-01</td>\n",
       "      <td>26.459999</td>\n",
       "      <td>27.500000</td>\n",
       "      <td>24.600000</td>\n",
       "      <td>24.889999</td>\n",
       "      <td>20.070518</td>\n",
       "      <td>1279920200</td>\n",
       "    </tr>\n",
       "    <tr>\n",
       "      <th>3</th>\n",
       "      <td>2011-10-01</td>\n",
       "      <td>24.719999</td>\n",
       "      <td>27.500000</td>\n",
       "      <td>24.260000</td>\n",
       "      <td>26.629999</td>\n",
       "      <td>21.473600</td>\n",
       "      <td>1218142500</td>\n",
       "    </tr>\n",
       "    <tr>\n",
       "      <th>4</th>\n",
       "      <td>2011-11-01</td>\n",
       "      <td>26.190001</td>\n",
       "      <td>27.200001</td>\n",
       "      <td>24.299999</td>\n",
       "      <td>25.580000</td>\n",
       "      <td>20.626919</td>\n",
       "      <td>1046207400</td>\n",
       "    </tr>\n",
       "    <tr>\n",
       "      <th>5</th>\n",
       "      <td>2011-12-01</td>\n",
       "      <td>25.559999</td>\n",
       "      <td>26.190001</td>\n",
       "      <td>25.160000</td>\n",
       "      <td>25.959999</td>\n",
       "      <td>21.090965</td>\n",
       "      <td>1007166600</td>\n",
       "    </tr>\n",
       "    <tr>\n",
       "      <th>6</th>\n",
       "      <td>2012-01-01</td>\n",
       "      <td>26.549999</td>\n",
       "      <td>29.950001</td>\n",
       "      <td>26.389999</td>\n",
       "      <td>29.530001</td>\n",
       "      <td>23.991377</td>\n",
       "      <td>1354858100</td>\n",
       "    </tr>\n",
       "    <tr>\n",
       "      <th>7</th>\n",
       "      <td>2012-02-01</td>\n",
       "      <td>29.790001</td>\n",
       "      <td>32.000000</td>\n",
       "      <td>29.709999</td>\n",
       "      <td>31.740000</td>\n",
       "      <td>25.786882</td>\n",
       "      <td>984332300</td>\n",
       "    </tr>\n",
       "    <tr>\n",
       "      <th>8</th>\n",
       "      <td>2012-03-01</td>\n",
       "      <td>31.930000</td>\n",
       "      <td>32.950001</td>\n",
       "      <td>31.490000</td>\n",
       "      <td>32.259998</td>\n",
       "      <td>26.381887</td>\n",
       "      <td>942366500</td>\n",
       "    </tr>\n",
       "    <tr>\n",
       "      <th>9</th>\n",
       "      <td>2012-04-01</td>\n",
       "      <td>32.220001</td>\n",
       "      <td>32.889999</td>\n",
       "      <td>30.230000</td>\n",
       "      <td>32.020000</td>\n",
       "      <td>26.185619</td>\n",
       "      <td>940739700</td>\n",
       "    </tr>\n",
       "  </tbody>\n",
       "</table>\n",
       "</div>"
      ],
      "text/plain": [
       "        Date       Open       High        Low      Close  Adj_Close  \\\n",
       "0 2011-07-01  25.930000  28.150000  25.840000  27.400000  21.955933   \n",
       "1 2011-08-01  27.510000  27.690001  23.790001  26.600000  21.314878   \n",
       "2 2011-09-01  26.459999  27.500000  24.600000  24.889999  20.070518   \n",
       "3 2011-10-01  24.719999  27.500000  24.260000  26.629999  21.473600   \n",
       "4 2011-11-01  26.190001  27.200001  24.299999  25.580000  20.626919   \n",
       "5 2011-12-01  25.559999  26.190001  25.160000  25.959999  21.090965   \n",
       "6 2012-01-01  26.549999  29.950001  26.389999  29.530001  23.991377   \n",
       "7 2012-02-01  29.790001  32.000000  29.709999  31.740000  25.786882   \n",
       "8 2012-03-01  31.930000  32.950001  31.490000  32.259998  26.381887   \n",
       "9 2012-04-01  32.220001  32.889999  30.230000  32.020000  26.185619   \n",
       "\n",
       "       Volume  \n",
       "0  1259328200  \n",
       "1  1719339500  \n",
       "2  1279920200  \n",
       "3  1218142500  \n",
       "4  1046207400  \n",
       "5  1007166600  \n",
       "6  1354858100  \n",
       "7   984332300  \n",
       "8   942366500  \n",
       "9   940739700  "
      ]
     },
     "execution_count": 374,
     "metadata": {},
     "output_type": "execute_result"
    }
   ],
   "source": [
    "df.loc[:, 'Date'] = pd.to_datetime(df['Date'],format='%Y-%m-%d')\n",
    "\n",
    "df.columns = [str(x).replace(' ', '_') for x in df.columns]\n",
    "\n",
    "df.sort_values(by='Date', inplace=True, ascending=True)\n",
    "\n",
    "df.head(10)"
   ]
  },
  {
   "cell_type": "code",
   "execution_count": 375,
   "metadata": {},
   "outputs": [],
   "source": [
    "from sklearn.linear_model import LinearRegression\n",
    "from sklearn import preprocessing\n",
    "from sklearn.model_selection import train_test_split\n",
    "from sklearn import neighbors\n",
    "from math import sqrt"
   ]
  },
  {
   "cell_type": "code",
   "execution_count": 376,
   "metadata": {},
   "outputs": [],
   "source": [
    "dfreg = df.loc[:,['Open','Close','Adj_Close','Volume']]"
   ]
  },
  {
   "cell_type": "code",
   "execution_count": 377,
   "metadata": {},
   "outputs": [],
   "source": [
    "dfreg.fillna(value=-99999, inplace=True)\n",
    "\n",
    "forecast_out = int(math.ceil(0.01 * len(dfreg)))\n",
    "\n",
    "dfreg['label'] = dfreg['Adj_Close'].shift(-forecast_out)\n",
    "\n",
    "X = np.array(dfreg.drop(['label'], 1))\n",
    "\n",
    "X = preprocessing.scale(X)\n",
    "\n",
    "X = X[:-forecast_out]\n",
    "\n",
    "y = np.array(dfreg['label'])\n",
    "\n",
    "y = y[:-forecast_out]"
   ]
  },
  {
   "cell_type": "code",
   "execution_count": 378,
   "metadata": {},
   "outputs": [],
   "source": [
    "X_train, X_test, y_train, y_test = train_test_split(X, y, test_size=0.3, random_state=42)"
   ]
  },
  {
   "cell_type": "code",
   "execution_count": 379,
   "metadata": {},
   "outputs": [
    {
     "data": {
      "text/plain": [
       "LinearRegression(n_jobs=-1)"
      ]
     },
     "execution_count": 379,
     "metadata": {},
     "output_type": "execute_result"
    }
   ],
   "source": [
    "clfreg = LinearRegression(n_jobs=-1)\n",
    "clfreg.fit(X_train, y_train)"
   ]
  },
  {
   "cell_type": "code",
   "execution_count": 380,
   "metadata": {},
   "outputs": [
    {
     "name": "stdout",
     "output_type": "stream",
     "text": [
      "0.9889158790352633\n"
     ]
    }
   ],
   "source": [
    "print(clfreg.score(X_test, y_test))"
   ]
  },
  {
   "cell_type": "code",
   "execution_count": 381,
   "metadata": {},
   "outputs": [],
   "source": [
    "ypred=clfreg.predict(X_test)"
   ]
  },
  {
   "cell_type": "code",
   "execution_count": 382,
   "metadata": {},
   "outputs": [
    {
     "name": "stdout",
     "output_type": "stream",
     "text": [
      "MAE = 3.995314651033094\n",
      "MSE = 43.91903879774\n",
      "RMSE = 6.627144090612487\n"
     ]
    }
   ],
   "source": [
    "print('MAE =',metrics.mean_absolute_error(y_test,ypred))\n",
    "print('MSE =',metrics.mean_squared_error(y_test,ypred))\n",
    "print('RMSE =',np.sqrt(metrics.mean_squared_error(y_test,ypred)))\n"
   ]
  },
  {
   "cell_type": "code",
   "execution_count": 383,
   "metadata": {},
   "outputs": [
    {
     "data": {
      "image/png": "[encoded data removed]",
      "text/plain": [
       "<Figure size 432x288 with 1 Axes>"
      ]
     },
     "metadata": {
      "needs_background": "light"
     },
     "output_type": "display_data"
    }
   ],
   "source": [
    "plt.scatter(y_test,ypred)\n",
    "plt.xlabel(\"Real\")\n",
    "plt.ylabel(\"Predicted\")\n",
    "plt.title(\"Linear Regression\")\n",
    "plt.show()"
   ]
  },
  {
   "cell_type": "markdown",
   "metadata": {},
   "source": [
    "## 2)KNN"
   ]
  },
  {
   "cell_type": "code",
   "execution_count": 384,
   "metadata": {},
   "outputs": [],
   "source": [
    "df = pd.read_csv(r'C:\\Users\\vkumar\\Downloads\\MSFT.csv')"
   ]
  },
  {
   "cell_type": "code",
   "execution_count": 385,
   "metadata": {},
   "outputs": [
    {
     "data": {
      "text/html": [
       "<div>\n",
       "<style scoped>\n",
       "    .dataframe tbody tr th:only-of-type {\n",
       "        vertical-align: middle;\n",
       "    }\n",
       "\n",
       "    .dataframe tbody tr th {\n",
       "        vertical-align: top;\n",
       "    }\n",
       "\n",
       "    .dataframe thead th {\n",
       "        text-align: right;\n",
       "    }\n",
       "</style>\n",
       "<table border=\"1\" class=\"dataframe\">\n",
       "  <thead>\n",
       "    <tr style=\"text-align: right;\">\n",
       "      <th></th>\n",
       "      <th>Date</th>\n",
       "      <th>Open</th>\n",
       "      <th>High</th>\n",
       "      <th>Low</th>\n",
       "      <th>Close</th>\n",
       "      <th>Adj_Close</th>\n",
       "      <th>Volume</th>\n",
       "    </tr>\n",
       "  </thead>\n",
       "  <tbody>\n",
       "    <tr>\n",
       "      <th>0</th>\n",
       "      <td>2011-07-01</td>\n",
       "      <td>25.930000</td>\n",
       "      <td>28.150000</td>\n",
       "      <td>25.840000</td>\n",
       "      <td>27.400000</td>\n",
       "      <td>21.955933</td>\n",
       "      <td>1259328200</td>\n",
       "    </tr>\n",
       "    <tr>\n",
       "      <th>1</th>\n",
       "      <td>2011-08-01</td>\n",
       "      <td>27.510000</td>\n",
       "      <td>27.690001</td>\n",
       "      <td>23.790001</td>\n",
       "      <td>26.600000</td>\n",
       "      <td>21.314878</td>\n",
       "      <td>1719339500</td>\n",
       "    </tr>\n",
       "    <tr>\n",
       "      <th>2</th>\n",
       "      <td>2011-09-01</td>\n",
       "      <td>26.459999</td>\n",
       "      <td>27.500000</td>\n",
       "      <td>24.600000</td>\n",
       "      <td>24.889999</td>\n",
       "      <td>20.070518</td>\n",
       "      <td>1279920200</td>\n",
       "    </tr>\n",
       "    <tr>\n",
       "      <th>3</th>\n",
       "      <td>2011-10-01</td>\n",
       "      <td>24.719999</td>\n",
       "      <td>27.500000</td>\n",
       "      <td>24.260000</td>\n",
       "      <td>26.629999</td>\n",
       "      <td>21.473600</td>\n",
       "      <td>1218142500</td>\n",
       "    </tr>\n",
       "    <tr>\n",
       "      <th>4</th>\n",
       "      <td>2011-11-01</td>\n",
       "      <td>26.190001</td>\n",
       "      <td>27.200001</td>\n",
       "      <td>24.299999</td>\n",
       "      <td>25.580000</td>\n",
       "      <td>20.626919</td>\n",
       "      <td>1046207400</td>\n",
       "    </tr>\n",
       "    <tr>\n",
       "      <th>5</th>\n",
       "      <td>2011-12-01</td>\n",
       "      <td>25.559999</td>\n",
       "      <td>26.190001</td>\n",
       "      <td>25.160000</td>\n",
       "      <td>25.959999</td>\n",
       "      <td>21.090965</td>\n",
       "      <td>1007166600</td>\n",
       "    </tr>\n",
       "    <tr>\n",
       "      <th>6</th>\n",
       "      <td>2012-01-01</td>\n",
       "      <td>26.549999</td>\n",
       "      <td>29.950001</td>\n",
       "      <td>26.389999</td>\n",
       "      <td>29.530001</td>\n",
       "      <td>23.991377</td>\n",
       "      <td>1354858100</td>\n",
       "    </tr>\n",
       "    <tr>\n",
       "      <th>7</th>\n",
       "      <td>2012-02-01</td>\n",
       "      <td>29.790001</td>\n",
       "      <td>32.000000</td>\n",
       "      <td>29.709999</td>\n",
       "      <td>31.740000</td>\n",
       "      <td>25.786882</td>\n",
       "      <td>984332300</td>\n",
       "    </tr>\n",
       "    <tr>\n",
       "      <th>8</th>\n",
       "      <td>2012-03-01</td>\n",
       "      <td>31.930000</td>\n",
       "      <td>32.950001</td>\n",
       "      <td>31.490000</td>\n",
       "      <td>32.259998</td>\n",
       "      <td>26.381887</td>\n",
       "      <td>942366500</td>\n",
       "    </tr>\n",
       "    <tr>\n",
       "      <th>9</th>\n",
       "      <td>2012-04-01</td>\n",
       "      <td>32.220001</td>\n",
       "      <td>32.889999</td>\n",
       "      <td>30.230000</td>\n",
       "      <td>32.020000</td>\n",
       "      <td>26.185619</td>\n",
       "      <td>940739700</td>\n",
       "    </tr>\n",
       "  </tbody>\n",
       "</table>\n",
       "</div>"
      ],
      "text/plain": [
       "        Date       Open       High        Low      Close  Adj_Close  \\\n",
       "0 2011-07-01  25.930000  28.150000  25.840000  27.400000  21.955933   \n",
       "1 2011-08-01  27.510000  27.690001  23.790001  26.600000  21.314878   \n",
       "2 2011-09-01  26.459999  27.500000  24.600000  24.889999  20.070518   \n",
       "3 2011-10-01  24.719999  27.500000  24.260000  26.629999  21.473600   \n",
       "4 2011-11-01  26.190001  27.200001  24.299999  25.580000  20.626919   \n",
       "5 2011-12-01  25.559999  26.190001  25.160000  25.959999  21.090965   \n",
       "6 2012-01-01  26.549999  29.950001  26.389999  29.530001  23.991377   \n",
       "7 2012-02-01  29.790001  32.000000  29.709999  31.740000  25.786882   \n",
       "8 2012-03-01  31.930000  32.950001  31.490000  32.259998  26.381887   \n",
       "9 2012-04-01  32.220001  32.889999  30.230000  32.020000  26.185619   \n",
       "\n",
       "       Volume  \n",
       "0  1259328200  \n",
       "1  1719339500  \n",
       "2  1279920200  \n",
       "3  1218142500  \n",
       "4  1046207400  \n",
       "5  1007166600  \n",
       "6  1354858100  \n",
       "7   984332300  \n",
       "8   942366500  \n",
       "9   940739700  "
      ]
     },
     "execution_count": 385,
     "metadata": {},
     "output_type": "execute_result"
    }
   ],
   "source": [
    "df.loc[:, 'Date'] = pd.to_datetime(df['Date'],format='%Y-%m-%d')\n",
    "\n",
    "df.columns = [str(x).replace(' ', '_') for x in df.columns]\n",
    "\n",
    "df.sort_values(by='Date', inplace=True, ascending=True)\n",
    "\n",
    "df.head(10)"
   ]
  },
  {
   "cell_type": "code",
   "execution_count": 386,
   "metadata": {},
   "outputs": [],
   "source": [
    "from sklearn.neighbors import KNeighborsRegressor\n",
    "from sklearn import preprocessing\n",
    "from sklearn.model_selection import train_test_split\n",
    "from sklearn import neighbors\n",
    "from math import sqrt"
   ]
  },
  {
   "cell_type": "code",
   "execution_count": 387,
   "metadata": {},
   "outputs": [],
   "source": [
    "dfreg = df.loc[:,['Open','Close','Adj_Close','Volume']]"
   ]
  },
  {
   "cell_type": "code",
   "execution_count": 388,
   "metadata": {},
   "outputs": [],
   "source": [
    "dfreg.fillna(value=-99999, inplace=True)\n",
    "\n",
    "forecast_out = int(math.ceil(0.02 * len(dfreg)))\n",
    "\n",
    "dfreg['label'] = dfreg['Adj_Close'].shift(-forecast_out)\n",
    "\n",
    "X = np.array(dfreg.drop(['label'], 1))\n",
    "\n",
    "X = preprocessing.scale(X)\n",
    "\n",
    "X = X[:-forecast_out]\n",
    "X_lately = X[-forecast_out:]\n",
    "\n",
    "y = np.array(dfreg['label'])\n",
    "\n",
    "y = y[:-forecast_out]"
   ]
  },
  {
   "cell_type": "code",
   "execution_count": 389,
   "metadata": {},
   "outputs": [],
   "source": [
    "X_train, X_test, y_train, y_test = train_test_split(X, y, test_size=0.3, random_state=42)"
   ]
  },
  {
   "cell_type": "code",
   "execution_count": 390,
   "metadata": {},
   "outputs": [
    {
     "data": {
      "text/plain": [
       "KNeighborsRegressor(n_neighbors=6)"
      ]
     },
     "execution_count": 390,
     "metadata": {},
     "output_type": "execute_result"
    }
   ],
   "source": [
    "clfknn = KNeighborsRegressor(n_neighbors=6)\n",
    "clfknn.fit(X_train, y_train)"
   ]
  },
  {
   "cell_type": "code",
   "execution_count": 391,
   "metadata": {},
   "outputs": [
    {
     "name": "stdout",
     "output_type": "stream",
     "text": [
      "0.9889761917609934\n"
     ]
    }
   ],
   "source": [
    "print(clfknn.score(X_test, y_test))"
   ]
  },
  {
   "cell_type": "code",
   "execution_count": 392,
   "metadata": {},
   "outputs": [
    {
     "name": "stdout",
     "output_type": "stream",
     "text": [
      "RMSE value for k=  1 is: 6.194326120877852\n",
      "RMSE value for k=  2 is: 5.97079802517282\n",
      "RMSE value for k=  3 is: 9.363176244608026\n",
      "RMSE value for k=  4 is: 7.479788168180486\n",
      "RMSE value for k=  5 is: 6.913753283133943\n",
      "RMSE value for k=  6 is: 6.707685686505523\n",
      "RMSE value for k=  7 is: 6.513872922365991\n",
      "RMSE value for k=  8 is: 8.055241178853207\n",
      "RMSE value for k=  9 is: 9.278579595192374\n",
      "RMSE value for k=  10 is: 10.778779956989133\n",
      "RMSE value for k=  11 is: 12.989250549474091\n",
      "RMSE value for k=  12 is: 14.919560707187612\n",
      "RMSE value for k=  13 is: 15.665412689651724\n",
      "RMSE value for k=  14 is: 15.823389887867364\n",
      "RMSE value for k=  15 is: 17.23524213008864\n"
     ]
    }
   ],
   "source": [
    "rmse_val = [] \n",
    "for K in range(15):\n",
    "    K = K+1\n",
    "    model = neighbors.KNeighborsRegressor(n_neighbors = K)\n",
    "\n",
    "    model.fit(X_train, y_train)  \n",
    "    pred=model.predict(X_test)\n",
    "    error = np.sqrt(metrics.mean_squared_error(y_test,pred)) \n",
    "    rmse_val.append(error) \n",
    "    print('RMSE value for k= ' , K , 'is:', error)"
   ]
  },
  {
   "cell_type": "code",
   "execution_count": 393,
   "metadata": {},
   "outputs": [
    {
     "data": {
      "text/plain": [
       "Text(0, 0.5, 'RMSE')"
      ]
     },
     "execution_count": 393,
     "metadata": {},
     "output_type": "execute_result"
    },
    {
     "data": {
      "image/png": "[encoded data removed]",
      "text/plain": [
       "<Figure size 432x288 with 1 Axes>"
      ]
     },
     "metadata": {
      "needs_background": "light"
     },
     "output_type": "display_data"
    }
   ],
   "source": [
    "plt.figure(figsize=(6, 4))\n",
    "plt.plot(range(1, K+1), rmse_val, 'x-')\n",
    "plt.grid(b=True, which='minor', color='w', linestyle='-')\n",
    "plt.xlabel('K')\n",
    "plt.ylabel('RMSE')"
   ]
  },
  {
   "cell_type": "code",
   "execution_count": 394,
   "metadata": {},
   "outputs": [],
   "source": [
    "def get_mape(y_true, y_pred): \n",
    "    \n",
    "    y_true, y_pred = np.array(y_true), np.array(y_pred)\n",
    "    return np.mean(np.abs((y_true - y_pred) / y_true)) * 100"
   ]
  },
  {
   "cell_type": "code",
   "execution_count": 395,
   "metadata": {},
   "outputs": [],
   "source": [
    "mape=[]\n",
    "for K in range(15):\n",
    "    K = K+1\n",
    "    model = neighbors.KNeighborsRegressor(n_neighbors = K)\n",
    "\n",
    "    model.fit(X_train, y_train)  \n",
    "    pred=model.predict(X_test)\n",
    "    error = get_mape(y_test,pred)\n",
    "    mape.append(error) "
   ]
  },
  {
   "cell_type": "code",
   "execution_count": 396,
   "metadata": {
    "scrolled": true
   },
   "outputs": [
    {
     "data": {
      "text/plain": [
       "Text(0, 0.5, 'MAPE')"
      ]
     },
     "execution_count": 396,
     "metadata": {},
     "output_type": "execute_result"
    },
    {
     "data": {
      "image/png": "[encoded data removed]",
      "text/plain": [
       "<Figure size 432x288 with 1 Axes>"
      ]
     },
     "metadata": {
      "needs_background": "light"
     },
     "output_type": "display_data"
    }
   ],
   "source": [
    "plt.figure(figsize=(6,4))\n",
    "plt.plot(range(1, K+1), mape, 'x-')\n",
    "plt.grid(b=True, which='minor', color='w', linestyle='-')\n",
    "\n",
    "plt.xlabel('K')\n",
    "plt.ylabel('MAPE')\n"
   ]
  },
  {
   "cell_type": "code",
   "execution_count": 397,
   "metadata": {},
   "outputs": [
    {
     "name": "stdout",
     "output_type": "stream",
     "text": [
      "[0.9905989930199598, 0.9912652394664903, 0.9785200810328775, 0.9862922921665861, 0.9882884602288614, 0.9889761917609934, 0.9896040350726137, 0.9841019690499955, 0.9789064713371664, 0.9715340649309787, 0.9586615270095037, 0.9454621122176509, 0.9398729463573711, 0.9386541341499646, 0.9272184969611232]\n"
     ]
    }
   ],
   "source": [
    "R2=[]\n",
    "for K in range(15):\n",
    "    K = K+1\n",
    "    model = neighbors.KNeighborsRegressor(n_neighbors = K)\n",
    "    model.fit(X_train, y_train)  \n",
    "    pred=model.predict(X_test)\n",
    "    error = r2_score(y_test,pred)\n",
    "    R2.append(error) \n",
    "print(R2)"
   ]
  },
  {
   "cell_type": "code",
   "execution_count": 398,
   "metadata": {},
   "outputs": [
    {
     "data": {
      "text/plain": [
       "Text(0, 0.5, 'R2')"
      ]
     },
     "execution_count": 398,
     "metadata": {},
     "output_type": "execute_result"
    },
    {
     "data": {
      "image/png": "[encoded data removed]",
      "text/plain": [
       "<Figure size 576x288 with 1 Axes>"
      ]
     },
     "metadata": {
      "needs_background": "light"
     },
     "output_type": "display_data"
    }
   ],
   "source": [
    "plt.figure(figsize=(8, 4))\n",
    "plt.plot(range(1,K+1), R2, 'x-')\n",
    "plt.grid(b=True, which='minor', color='w', linestyle='-')\n",
    "plt.xlabel('K')\n",
    "plt.ylabel('R2')"
   ]
  },
  {
   "cell_type": "code",
   "execution_count": 399,
   "metadata": {},
   "outputs": [
    {
     "data": {
      "image/png": "[encoded data removed]",
      "text/plain": [
       "<Figure size 432x288 with 1 Axes>"
      ]
     },
     "metadata": {
      "needs_background": "light"
     },
     "output_type": "display_data"
    }
   ],
   "source": [
    "plt.scatter(y_test,pred)\n",
    "plt.xlabel(\"Real\")\n",
    "plt.ylabel(\"Predicted\")\n",
    "plt.title(\"KNN\")\n",
    "plt.show()"
   ]
  },
  {
   "cell_type": "markdown",
   "metadata": {},
   "source": [
    "## 3)Random Forest"
   ]
  },
  {
   "cell_type": "code",
   "execution_count": 400,
   "metadata": {},
   "outputs": [],
   "source": [
    "from sklearn.ensemble import RandomForestRegressor\n",
    "from sklearn.model_selection import ParameterGrid\n",
    "from sklearn.ensemble import RandomForestClassifier\n"
   ]
  },
  {
   "cell_type": "code",
   "execution_count": 401,
   "metadata": {},
   "outputs": [],
   "source": [
    "df = pd.read_csv(r'C:\\Users\\vkumar\\Downloads\\MSFT.csv')"
   ]
  },
  {
   "cell_type": "code",
   "execution_count": 402,
   "metadata": {},
   "outputs": [],
   "source": [
    "#dfreg = df.loc[:,['Adj_Close', 'Volume']]"
   ]
  },
  {
   "cell_type": "code",
   "execution_count": 403,
   "metadata": {},
   "outputs": [],
   "source": [
    "dfreg.fillna(value=-99999, inplace=True)\n",
    "\n",
    "forecast_out = int(math.ceil(0.02 * len(dfreg)))\n",
    "\n",
    "dfreg['label'] = dfreg['Adj_Close'].shift(-forecast_out)\n",
    "\n",
    "X = np.array(dfreg.drop(['label'], 1))\n",
    "\n",
    "X = preprocessing.scale(X)\n",
    "\n",
    "X = X[:-forecast_out]\n",
    "X_lately = X[-forecast_out:]\n",
    "\n",
    "y = np.array(dfreg['label'])\n",
    "\n",
    "y = y[:-forecast_out]"
   ]
  },
  {
   "cell_type": "code",
   "execution_count": 404,
   "metadata": {},
   "outputs": [],
   "source": [
    "X_train, X_test, y_train, y_test = train_test_split(X, y, test_size=0.3, random_state=42)"
   ]
  },
  {
   "cell_type": "code",
   "execution_count": 405,
   "metadata": {},
   "outputs": [],
   "source": [
    "clf = RandomForestRegressor(n_estimators = 50,random_state=42)"
   ]
  },
  {
   "cell_type": "code",
   "execution_count": 406,
   "metadata": {},
   "outputs": [],
   "source": [
    "model = clf.fit(X_train, y_train)"
   ]
  },
  {
   "cell_type": "code",
   "execution_count": 407,
   "metadata": {},
   "outputs": [
    {
     "name": "stdout",
     "output_type": "stream",
     "text": [
      "0.9913762833569311\n"
     ]
    }
   ],
   "source": [
    "print(model.score(X_test, y_test))"
   ]
  },
  {
   "cell_type": "code",
   "execution_count": 408,
   "metadata": {},
   "outputs": [
    {
     "name": "stdout",
     "output_type": "stream",
     "text": [
      "RMSE value for n_estimators=  10 is: 5.761968473079912\n",
      "RMSE value for n_estimators=  15 is: 5.680103467023791\n",
      "RMSE value for n_estimators=  20 is: 5.443969657774575\n",
      "RMSE value for n_estimators=  25 is: 5.662379411188115\n",
      "RMSE value for n_estimators=  30 is: 5.759833728614139\n",
      "RMSE value for n_estimators=  35 is: 5.866757000121913\n",
      "RMSE value for n_estimators=  40 is: 5.783598246208732\n",
      "RMSE value for n_estimators=  45 is: 5.862880787029745\n",
      "RMSE value for n_estimators=  50 is: 5.932723634632091\n",
      "RMSE value for n_estimators=  55 is: 5.974126158818409\n",
      "RMSE value for n_estimators=  60 is: 5.874695966554338\n",
      "RMSE value for n_estimators=  65 is: 5.850665904009281\n",
      "RMSE value for n_estimators=  70 is: 5.836653900572812\n",
      "RMSE value for n_estimators=  75 is: 5.814086197964505\n",
      "RMSE value for n_estimators=  80 is: 5.80054913133829\n",
      "RMSE value for n_estimators=  85 is: 5.8152481544352925\n",
      "RMSE value for n_estimators=  90 is: 5.820545222191259\n",
      "RMSE value for n_estimators=  95 is: 5.856610473151132\n"
     ]
    }
   ],
   "source": [
    "Rmse=[]\n",
    "for n in range(10,100,5):\n",
    "    clf = RandomForestRegressor(n_estimators = n,random_state=42)\n",
    "    model = clf.fit(X_train, y_train)\n",
    "    y_pred = model.predict(X_test)\n",
    "    error=np.sqrt(metrics.mean_squared_error(y_test, y_pred))\n",
    "    Rmse.append(error)\n",
    "    print('RMSE value for n_estimators= ' , n , 'is:', error)"
   ]
  },
  {
   "cell_type": "code",
   "execution_count": 409,
   "metadata": {},
   "outputs": [
    {
     "data": {
      "text/plain": [
       "Text(0, 0.5, 'RMSE')"
      ]
     },
     "execution_count": 409,
     "metadata": {},
     "output_type": "execute_result"
    },
    {
     "data": {
      "image/png": "[encoded data removed]",
      "text/plain": [
       "<Figure size 576x288 with 1 Axes>"
      ]
     },
     "metadata": {
      "needs_background": "light"
     },
     "output_type": "display_data"
    }
   ],
   "source": [
    "plt.figure(figsize=(8, 4))\n",
    "plt.plot(range(10, 100,5), Rmse, 'x-')\n",
    "plt.grid(b=True, which='minor', color='w', linestyle='-')\n",
    "plt.xticks([10,20,30,40,50,60,70,80,90,100])\n",
    "plt.xlabel('N_Estimators')\n",
    "plt.ylabel('RMSE')"
   ]
  },
  {
   "cell_type": "code",
   "execution_count": 410,
   "metadata": {},
   "outputs": [],
   "source": [
    "def get_mape(y_true, y_pred): \n",
    "    \n",
    "    y_true, y_pred = np.array(y_true), np.array(y_pred)\n",
    "    return np.mean(np.abs((y_true - y_pred) / y_true)) * 100"
   ]
  },
  {
   "cell_type": "code",
   "execution_count": 411,
   "metadata": {},
   "outputs": [
    {
     "name": "stdout",
     "output_type": "stream",
     "text": [
      "[5.63079565394237, 5.360453883277049, 5.501384503239468, 5.575668325268966, 5.5761395234199345, 5.475199989104537, 5.406730586473388, 5.471809695126167, 5.637678779708626, 5.666700426784007, 5.6330047985088845, 5.56395817137317, 5.532068381921621, 5.621417719433539, 5.654339083014629, 5.7341406890403315, 5.713852542960545, 5.713322422189873]\n"
     ]
    }
   ],
   "source": [
    "mape=[]\n",
    "for n in range(10,100,5): \n",
    "    clf = RandomForestRegressor(n_estimators = n,random_state=42)\n",
    "    model = clf.fit(X_train, y_train)\n",
    "    y_pred = model.predict(X_test)\n",
    "    error=get_mape(y_test,y_pred)\n",
    "    mape.append(error)\n",
    "print(mape)"
   ]
  },
  {
   "cell_type": "code",
   "execution_count": 412,
   "metadata": {},
   "outputs": [
    {
     "data": {
      "text/plain": [
       "Text(0, 0.5, 'MAPE')"
      ]
     },
     "execution_count": 412,
     "metadata": {},
     "output_type": "execute_result"
    },
    {
     "data": {
      "image/png": "[encoded data removed]",
      "text/plain": [
       "<Figure size 576x288 with 1 Axes>"
      ]
     },
     "metadata": {
      "needs_background": "light"
     },
     "output_type": "display_data"
    }
   ],
   "source": [
    "plt.figure(figsize=(8,4))\n",
    "plt.plot(range(10,100,5), mape, 'x-')\n",
    "plt.grid(b=True, which='minor', color='w', linestyle='-')\n",
    "plt.xticks([10,20,30,40,50,60,70,80,90,100])\n",
    "plt.xlabel('N_Estimators')\n",
    "plt.ylabel('MAPE')"
   ]
  },
  {
   "cell_type": "code",
   "execution_count": 413,
   "metadata": {},
   "outputs": [
    {
     "name": "stdout",
     "output_type": "stream",
     "text": [
      "[0.9918655536807209, 0.9920950571285992, 0.9927386455915851, 0.9921443129407173, 0.9918715800057804, 0.9915669933550074, 0.9918043674835784, 0.9915781331830619, 0.9913762833569311, 0.9912554992099094, 0.9915441546197346, 0.9916131893127876, 0.9916533130525775, 0.991717733999845, 0.9917562566704445, 0.9917144232150046, 0.9916993217955405, 0.9915961378164587]\n"
     ]
    }
   ],
   "source": [
    "R2=[]\n",
    "for n in range(10,100,5): \n",
    "    clf = RandomForestRegressor(n_estimators = n,random_state=42)\n",
    "    model = clf.fit(X_train, y_train)\n",
    "    y_pred = model.predict(X_test)\n",
    "    error = r2_score(y_test,y_pred)\n",
    "    R2.append(error) \n",
    "print(R2)\n"
   ]
  },
  {
   "cell_type": "code",
   "execution_count": 414,
   "metadata": {},
   "outputs": [
    {
     "data": {
      "text/plain": [
       "Text(0, 0.5, 'R2')"
      ]
     },
     "execution_count": 414,
     "metadata": {},
     "output_type": "execute_result"
    },
    {
     "data": {
      "image/png": "[encoded data removed]",
      "text/plain": [
       "<Figure size 576x288 with 1 Axes>"
      ]
     },
     "metadata": {
      "needs_background": "light"
     },
     "output_type": "display_data"
    }
   ],
   "source": [
    "plt.figure(figsize=(8, 4))\n",
    "plt.plot(range(10, 100,5), R2, 'x-')\n",
    "plt.grid(b=True, which='minor', color='w', linestyle='-')\n",
    "plt.xticks([10,20,30,40,50,60,70,80,90,100])\n",
    "plt.xlabel('N_Estimators')\n",
    "plt.ylabel('R2')"
   ]
  },
  {
   "cell_type": "code",
   "execution_count": 415,
   "metadata": {},
   "outputs": [
    {
     "data": {
      "image/png": "[encoded data removed]",
      "text/plain": [
       "<Figure size 432x288 with 1 Axes>"
      ]
     },
     "metadata": {
      "needs_background": "light"
     },
     "output_type": "display_data"
    }
   ],
   "source": [
    "plt.scatter(y_test,y_pred)\n",
    "plt.xlabel(\"Real\")\n",
    "plt.ylabel(\"Predicted\")\n",
    "plt.title(\"Random Forest\")\n",
    "plt.show()"
   ]
  },
  {
   "cell_type": "markdown",
   "metadata": {},
   "source": [
    "## 4)XGBoost "
   ]
  },
  {
   "cell_type": "code",
   "execution_count": 416,
   "metadata": {},
   "outputs": [],
   "source": [
    "from xgboost import XGBRegressor"
   ]
  },
  {
   "cell_type": "code",
   "execution_count": 417,
   "metadata": {},
   "outputs": [],
   "source": [
    "df = pd.read_csv(r'C:\\Users\\vkumar\\Downloads\\MSFT.csv')"
   ]
  },
  {
   "cell_type": "code",
   "execution_count": 418,
   "metadata": {},
   "outputs": [],
   "source": [
    "#dfreg = df.loc[:,['Adj_Close', 'Volume']]"
   ]
  },
  {
   "cell_type": "code",
   "execution_count": 419,
   "metadata": {},
   "outputs": [],
   "source": [
    "dfreg.fillna(value=-99999, inplace=True)\n",
    "\n",
    "forecast_out = int(math.ceil(0.02 * len(dfreg)))\n",
    "\n",
    "dfreg['label'] = dfreg['Adj_Close'].shift(-forecast_out)\n",
    "\n",
    "X = np.array(dfreg.drop(['label'], 1))\n",
    "\n",
    "X = preprocessing.scale(X)\n",
    "\n",
    "X = X[:-forecast_out]\n",
    "X_lately = X[-forecast_out:]\n",
    "\n",
    "y = np.array(dfreg['label'])\n",
    "\n",
    "y = y[:-forecast_out]"
   ]
  },
  {
   "cell_type": "code",
   "execution_count": 420,
   "metadata": {},
   "outputs": [],
   "source": [
    "X_train, X_test, y_train, y_test = train_test_split(X, y, test_size=0.3, random_state=42)"
   ]
  },
  {
   "cell_type": "code",
   "execution_count": 421,
   "metadata": {},
   "outputs": [
    {
     "data": {
      "text/plain": [
       "XGBRegressor(base_score=0.5, booster='gbtree', colsample_bylevel=1,\n",
       "             colsample_bynode=1, colsample_bytree=1, eval_metric='mlogloss',\n",
       "             gamma=0, gpu_id=-1, importance_type='gain',\n",
       "             interaction_constraints='', learning_rate=0.300000012,\n",
       "             max_delta_step=0, max_depth=6, min_child_weight=1, missing=nan,\n",
       "             monotone_constraints='()', n_estimators=15, n_jobs=8,\n",
       "             num_parallel_tree=1, random_state=0, reg_alpha=0, reg_lambda=1,\n",
       "             scale_pos_weight=1, subsample=1, tree_method='exact',\n",
       "             validate_parameters=1, verbosity=None)"
      ]
     },
     "execution_count": 421,
     "metadata": {},
     "output_type": "execute_result"
    }
   ],
   "source": [
    "clfxgb = XGBRegressor(eval_metric = \"mlogloss\",n_estimators=15)\n",
    "clfxgb.fit(X_train, y_train)"
   ]
  },
  {
   "cell_type": "code",
   "execution_count": 422,
   "metadata": {},
   "outputs": [
    {
     "name": "stdout",
     "output_type": "stream",
     "text": [
      "0.9862935093632775\n"
     ]
    }
   ],
   "source": [
    "print(clfxgb.score(X_test, y_test))"
   ]
  },
  {
   "cell_type": "code",
   "execution_count": 423,
   "metadata": {},
   "outputs": [
    {
     "name": "stdout",
     "output_type": "stream",
     "text": [
      "RMSE value for n_estimators=  10 is: 9.852703384910162\n",
      "RMSE value for n_estimators=  15 is: 7.479456071244955\n",
      "RMSE value for n_estimators=  20 is: 7.150430809429841\n",
      "RMSE value for n_estimators=  25 is: 7.160481157623513\n",
      "RMSE value for n_estimators=  30 is: 7.1771151127381545\n",
      "RMSE value for n_estimators=  35 is: 7.206180289317347\n",
      "RMSE value for n_estimators=  40 is: 7.224890151298586\n",
      "RMSE value for n_estimators=  45 is: 7.228467286355701\n",
      "RMSE value for n_estimators=  50 is: 7.236647345041575\n",
      "RMSE value for n_estimators=  55 is: 7.241831316637357\n",
      "RMSE value for n_estimators=  60 is: 7.2419764486562785\n",
      "RMSE value for n_estimators=  65 is: 7.24449941582549\n",
      "RMSE value for n_estimators=  70 is: 7.245843078484716\n",
      "RMSE value for n_estimators=  75 is: 7.246448632107613\n",
      "RMSE value for n_estimators=  80 is: 7.248204152332726\n",
      "RMSE value for n_estimators=  85 is: 7.249482436378503\n",
      "RMSE value for n_estimators=  90 is: 7.250168724476516\n",
      "RMSE value for n_estimators=  95 is: 7.250931795371933\n"
     ]
    }
   ],
   "source": [
    "Rmse=[]\n",
    "for n in range(10,100,5):\n",
    "    clf = XGBRegressor(n_estimators = n,random_state=42)\n",
    "    model = clf.fit(X_train, y_train)\n",
    "    y_pred = model.predict(X_test)\n",
    "    error=np.sqrt(metrics.mean_squared_error(y_test, y_pred))\n",
    "    Rmse.append(error)\n",
    "    print('RMSE value for n_estimators= ' , n , 'is:', error)"
   ]
  },
  {
   "cell_type": "code",
   "execution_count": 424,
   "metadata": {},
   "outputs": [
    {
     "data": {
      "text/plain": [
       "Text(0, 0.5, 'RMSE')"
      ]
     },
     "execution_count": 424,
     "metadata": {},
     "output_type": "execute_result"
    },
    {
     "data": {
      "image/png": "[encoded data removed]",
      "text/plain": [
       "<Figure size 576x288 with 1 Axes>"
      ]
     },
     "metadata": {
      "needs_background": "light"
     },
     "output_type": "display_data"
    }
   ],
   "source": [
    "plt.figure(figsize=(8, 4))\n",
    "plt.plot(range(10, 100,5), Rmse, 'x-')\n",
    "plt.grid(b=True, which='minor', color='w', linestyle='-')\n",
    "plt.xticks([10,20,30,40,50,60,70,80,90,100])\n",
    "plt.xlabel('N_Estimators')\n",
    "plt.ylabel('RMSE')"
   ]
  },
  {
   "cell_type": "code",
   "execution_count": 425,
   "metadata": {},
   "outputs": [],
   "source": [
    "def get_mape(y_true, y_pred): \n",
    "    \n",
    "    y_true, y_pred = np.array(y_true), np.array(y_pred)\n",
    "    return np.mean(np.abs((y_true - y_pred) / y_true)) * 100"
   ]
  },
  {
   "cell_type": "code",
   "execution_count": 426,
   "metadata": {},
   "outputs": [
    {
     "name": "stdout",
     "output_type": "stream",
     "text": [
      "[7.2952424389104165, 6.623441652889454, 6.543530267514062, 6.720975941747248, 6.731128904560261, 6.738413022565959, 6.74297911476252, 6.736221290652263, 6.739553869280876, 6.757694959812167, 6.757971990825057, 6.76069823317757, 6.760551600264191, 6.7642427938175596, 6.7688520467919675, 6.771943549512663, 6.774486636397323, 6.77692961874292]\n"
     ]
    }
   ],
   "source": [
    "mape=[]\n",
    "for n in range(10,100,5): \n",
    "    clf = XGBRegressor(n_estimators = n,random_state=42)\n",
    "    model = clf.fit(X_train, y_train)\n",
    "    y_pred = model.predict(X_test)\n",
    "    error=get_mape(y_test,y_pred)\n",
    "    mape.append(error)\n",
    "print(mape)"
   ]
  },
  {
   "cell_type": "code",
   "execution_count": 427,
   "metadata": {},
   "outputs": [
    {
     "data": {
      "text/plain": [
       "Text(0, 0.5, 'MAPE')"
      ]
     },
     "execution_count": 427,
     "metadata": {},
     "output_type": "execute_result"
    },
    {
     "data": {
      "image/png": "[encoded data removed]",
      "text/plain": [
       "<Figure size 576x288 with 1 Axes>"
      ]
     },
     "metadata": {
      "needs_background": "light"
     },
     "output_type": "display_data"
    }
   ],
   "source": [
    "plt.figure(figsize=(8,4))\n",
    "plt.plot(range(10,100,5), mape, 'x-')\n",
    "plt.grid(b=True, which='minor', color='w', linestyle='-')\n",
    "plt.xticks([10,20,30,40,50,60,70,80,90,100])\n",
    "plt.xlabel('N_Estimators')\n",
    "plt.ylabel('MAPE')"
   ]
  },
  {
   "cell_type": "code",
   "execution_count": 428,
   "metadata": {},
   "outputs": [
    {
     "name": "stdout",
     "output_type": "stream",
     "text": [
      "[0.9762153338826961, 0.9862935093632775, 0.9874728966817656, 0.9874376567823255, 0.9873792237916824, 0.9872767960475501, 0.9872106421597237, 0.9871979746769383, 0.9871689835871355, 0.9871505940081807, 0.9871500789785318, 0.9871411240816641, 0.9871363536778793, 0.9871342034924422, 0.9871279690173266, 0.9871234284270206, 0.987120990334045, 0.9871182791931096]\n"
     ]
    }
   ],
   "source": [
    "R2=[]\n",
    "for n in range(10,100,5): \n",
    "    clf = XGBRegressor(n_estimators = n,random_state=42)\n",
    "    model = clf.fit(X_train, y_train)\n",
    "    y_pred = model.predict(X_test)\n",
    "    error = r2_score(y_test,y_pred)\n",
    "    R2.append(error) \n",
    "print(R2)"
   ]
  },
  {
   "cell_type": "code",
   "execution_count": 429,
   "metadata": {},
   "outputs": [
    {
     "data": {
      "text/plain": [
       "Text(0, 0.5, 'R2')"
      ]
     },
     "execution_count": 429,
     "metadata": {},
     "output_type": "execute_result"
    },
    {
     "data": {
      "image/png": "[encoded data removed]",
      "text/plain": [
       "<Figure size 576x288 with 1 Axes>"
      ]
     },
     "metadata": {
      "needs_background": "light"
     },
     "output_type": "display_data"
    }
   ],
   "source": [
    "plt.figure(figsize=(8, 4))\n",
    "plt.plot(range(10, 100,5), R2, 'x-')\n",
    "plt.grid(b=True, which='minor', color='w', linestyle='-')\n",
    "plt.xticks([10,20,30,40,50,60,70,80,90,100])\n",
    "plt.xlabel('N_Estimators')\n",
    "plt.ylabel('R2')"
   ]
  },
  {
   "cell_type": "code",
   "execution_count": 430,
   "metadata": {},
   "outputs": [
    {
     "data": {
      "image/png": "[encoded data removed]",
      "text/plain": [
       "<Figure size 432x288 with 1 Axes>"
      ]
     },
     "metadata": {
      "needs_background": "light"
     },
     "output_type": "display_data"
    }
   ],
   "source": [
    "plt.scatter(y_test,y_pred)\n",
    "plt.xlabel(\"Real\")\n",
    "plt.ylabel(\"Predicted\")\n",
    "plt.title(\"XGBoost\")\n",
    "plt.show()"
   ]
  },
  {
   "cell_type": "markdown",
   "metadata": {},
   "source": [
    "## 5)Neural Network"
   ]
  },
  {
   "cell_type": "code",
   "execution_count": 431,
   "metadata": {},
   "outputs": [],
   "source": [
    "from sklearn.neural_network import MLPRegressor"
   ]
  },
  {
   "cell_type": "code",
   "execution_count": 432,
   "metadata": {},
   "outputs": [],
   "source": [
    "df = pd.read_csv(r'C:\\Users\\vkumar\\Downloads\\MSFT.csv')"
   ]
  },
  {
   "cell_type": "code",
   "execution_count": 433,
   "metadata": {},
   "outputs": [],
   "source": [
    "#dfreg = df.loc[:,['Adj_Close', 'Volume']]"
   ]
  },
  {
   "cell_type": "code",
   "execution_count": 434,
   "metadata": {},
   "outputs": [],
   "source": [
    "dfreg.fillna(value=-99999, inplace=True)\n",
    "\n",
    "forecast_out = int(math.ceil(0.02 * len(dfreg)))\n",
    "\n",
    "dfreg['label'] = dfreg['Adj_Close'].shift(-forecast_out)\n",
    "\n",
    "X = np.array(dfreg.drop(['label'], 1))\n",
    "\n",
    "X = preprocessing.scale(X)\n",
    "\n",
    "X = X[:-forecast_out]\n",
    "X_lately = X[-forecast_out:]\n",
    "\n",
    "y = np.array(dfreg['label'])\n",
    "\n",
    "y = y[:-forecast_out]"
   ]
  },
  {
   "cell_type": "code",
   "execution_count": 435,
   "metadata": {},
   "outputs": [],
   "source": [
    "X_train, X_test, y_train, y_test = train_test_split(X, y, test_size=0.3, random_state=42)"
   ]
  },
  {
   "cell_type": "code",
   "execution_count": 436,
   "metadata": {},
   "outputs": [
    {
     "data": {
      "text/plain": [
       "MLPRegressor(hidden_layer_sizes=(150, 100, 50), max_iter=225)"
      ]
     },
     "execution_count": 436,
     "metadata": {},
     "output_type": "execute_result"
    }
   ],
   "source": [
    "clfmlp=MLPRegressor(hidden_layer_sizes=(150,100,50), max_iter=225)\n",
    "clfmlp.fit(X_train, y_train)"
   ]
  },
  {
   "cell_type": "code",
   "execution_count": 437,
   "metadata": {},
   "outputs": [
    {
     "name": "stdout",
     "output_type": "stream",
     "text": [
      "0.8438470818325526\n"
     ]
    }
   ],
   "source": [
    "print(clfmlp.score(X_test, y_test))"
   ]
  },
  {
   "cell_type": "code",
   "execution_count": 438,
   "metadata": {},
   "outputs": [
    {
     "name": "stdout",
     "output_type": "stream",
     "text": [
      "RMSE value for max_iter=  200 is: 27.626748523914625\n",
      "RMSE value for max_iter=  225 is: 25.085391389513937\n",
      "RMSE value for max_iter=  250 is: 25.631964685604466\n",
      "RMSE value for max_iter=  275 is: 26.72333692066674\n",
      "RMSE value for max_iter=  300 is: 25.86480172782615\n",
      "RMSE value for max_iter=  325 is: 28.739200738984028\n",
      "RMSE value for max_iter=  350 is: 29.25842185843402\n",
      "RMSE value for max_iter=  375 is: 23.087728618749143\n",
      "RMSE value for max_iter=  400 is: 25.058915279814176\n"
     ]
    }
   ],
   "source": [
    "Rmse=[]\n",
    "for n in range(200,401,25):\n",
    "    clf = MLPRegressor(hidden_layer_sizes=(150,100,50), max_iter=n)\n",
    "    model = clf.fit(X_train, y_train)\n",
    "    y_pred = model.predict(X_test)\n",
    "    error=np.sqrt(metrics.mean_squared_error(y_test, y_pred))\n",
    "    Rmse.append(error)\n",
    "    print('RMSE value for max_iter= ' , n , 'is:', error)"
   ]
  },
  {
   "cell_type": "code",
   "execution_count": 439,
   "metadata": {},
   "outputs": [
    {
     "data": {
      "text/plain": [
       "Text(0, 0.5, 'RMSE')"
      ]
     },
     "execution_count": 439,
     "metadata": {},
     "output_type": "execute_result"
    },
    {
     "data": {
      "image/png": "[encoded data removed]",
      "text/plain": [
       "<Figure size 576x288 with 1 Axes>"
      ]
     },
     "metadata": {
      "needs_background": "light"
     },
     "output_type": "display_data"
    }
   ],
   "source": [
    "plt.figure(figsize=(8, 4))\n",
    "plt.plot(range(200, 401,25), Rmse, 'x-')\n",
    "plt.grid(b=True, which='minor', color='w', linestyle='-')\n",
    "plt.xlabel('Max_Iter')\n",
    "plt.ylabel('RMSE')"
   ]
  },
  {
   "cell_type": "code",
   "execution_count": 440,
   "metadata": {},
   "outputs": [],
   "source": [
    "def get_mape(y_true, y_pred): \n",
    "    \n",
    "    y_true, y_pred = np.array(y_true), np.array(y_pred)\n",
    "    return np.mean(np.abs((y_true - y_pred) / y_true)) * 100"
   ]
  },
  {
   "cell_type": "code",
   "execution_count": 441,
   "metadata": {},
   "outputs": [
    {
     "name": "stdout",
     "output_type": "stream",
     "text": [
      "[21.864804453563206, 20.02832723323007, 18.24649646969242, 18.33999728263803, 21.37103609653601, 19.448652254119548, 19.156504217099513, 20.513760675922608, 19.4518381846312]\n"
     ]
    }
   ],
   "source": [
    "mape=[]\n",
    "for n in range(200,401,25): \n",
    "    clf = MLPRegressor(hidden_layer_sizes=(150,100,50), max_iter=n)\n",
    "    model = clf.fit(X_train, y_train)\n",
    "    y_pred = model.predict(X_test)\n",
    "    error=get_mape(y_test,y_pred)\n",
    "    mape.append(error)\n",
    "print(mape)"
   ]
  },
  {
   "cell_type": "code",
   "execution_count": 442,
   "metadata": {},
   "outputs": [
    {
     "data": {
      "text/plain": [
       "Text(0, 0.5, 'MAPE')"
      ]
     },
     "execution_count": 442,
     "metadata": {},
     "output_type": "execute_result"
    },
    {
     "data": {
      "image/png": "[encoded data removed]",
      "text/plain": [
       "<Figure size 576x288 with 1 Axes>"
      ]
     },
     "metadata": {
      "needs_background": "light"
     },
     "output_type": "display_data"
    }
   ],
   "source": [
    "plt.figure(figsize=(8,4))\n",
    "plt.plot(range(200,401,25), mape, 'x-')\n",
    "plt.grid(b=True, which='minor', color='w', linestyle='-')\n",
    "plt.xlabel('Max_Iter')\n",
    "plt.ylabel('MAPE')"
   ]
  },
  {
   "cell_type": "code",
   "execution_count": 443,
   "metadata": {},
   "outputs": [
    {
     "name": "stdout",
     "output_type": "stream",
     "text": [
      "[0.8045204475928385, 0.8218786919395763, 0.8559951026439502, 0.8572179448276487, 0.785614866340286, 0.8104416780623453, 0.8263454796083027, 0.7922525934848648, 0.8266264257763041]\n"
     ]
    }
   ],
   "source": [
    "R2=[]\n",
    "for n in range(200,401,25): \n",
    "    clf = MLPRegressor(hidden_layer_sizes=(150,100,50), max_iter=n)\n",
    "    model = clf.fit(X_train, y_train)\n",
    "    y_pred = model.predict(X_test)\n",
    "    error = r2_score(y_test,y_pred)\n",
    "    R2.append(error) \n",
    "print(R2)"
   ]
  },
  {
   "cell_type": "code",
   "execution_count": 444,
   "metadata": {},
   "outputs": [
    {
     "data": {
      "text/plain": [
       "Text(0, 0.5, 'R2')"
      ]
     },
     "execution_count": 444,
     "metadata": {},
     "output_type": "execute_result"
    },
    {
     "data": {
      "image/png": "[encoded data removed]",
      "text/plain": [
       "<Figure size 576x288 with 1 Axes>"
      ]
     },
     "metadata": {
      "needs_background": "light"
     },
     "output_type": "display_data"
    }
   ],
   "source": [
    "plt.figure(figsize=(8, 4))\n",
    "plt.plot(range(200, 401,25), R2, 'x-')\n",
    "plt.grid(b=True, which='minor', color='w', linestyle='-')\n",
    "plt.xlabel('Max_Iter')\n",
    "plt.ylabel('R2')"
   ]
  },
  {
   "cell_type": "code",
   "execution_count": 445,
   "metadata": {},
   "outputs": [
    {
     "data": {
      "image/png": "[encoded data removed]",
      "text/plain": [
       "<Figure size 432x288 with 1 Axes>"
      ]
     },
     "metadata": {
      "needs_background": "light"
     },
     "output_type": "display_data"
    }
   ],
   "source": [
    "plt.scatter(y_test,y_pred)\n",
    "plt.xlabel(\"Real\")\n",
    "plt.ylabel(\"Predicted\")\n",
    "plt.title(\"Neural Network\")\n",
    "plt.show()"
   ]
  }
 ],
 "metadata": {
  "kernelspec": {
   "display_name": "Python 3",
   "language": "python",
   "name": "python3"
  },
  "language_info": {
   "codemirror_mode": {
    "name": "ipython",
    "version": 3
   },
   "file_extension": ".py",
   "mimetype": "text/x-python",
   "name": "python",
   "nbconvert_exporter": "python",
   "pygments_lexer": "ipython3",
   "version": "3.8.5"
  }
 },
 "nbformat": 4,
 "nbformat_minor": 4
}
