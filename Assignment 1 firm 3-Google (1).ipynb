{
 "cells": [
  {
   "cell_type": "code",
   "execution_count": 342,
   "metadata": {},
   "outputs": [],
   "source": [
    "import math\n",
    "import matplotlib\n",
    "import numpy as np\n",
    "import pandas as pd\n",
    "import time\n",
    "from sklearn import metrics\n",
    "from sklearn.metrics import r2_score\n",
    "from datetime import date, datetime, time\n",
    "from matplotlib import pyplot as plt\n",
    "\n",
    "np.warnings.filterwarnings('ignore')\n",
    "\n",
    "%matplotlib inline"
   ]
  },
  {
   "cell_type": "code",
   "execution_count": null,
   "metadata": {},
   "outputs": [],
   "source": [
    "#When making scatter plot for prediction and test we want the points to be close to the 45 degree line\n",
    "#or y=x line as it indicated a more accurate prediction."
   ]
  },
  {
   "cell_type": "markdown",
   "metadata": {},
   "source": [
    "##  1)Linear Regression"
   ]
  },
  {
   "cell_type": "code",
   "execution_count": 343,
   "metadata": {},
   "outputs": [],
   "source": [
    "df = pd.read_csv(r'C:\\Users\\vkumar\\Downloads\\GOOGL.csv')"
   ]
  },
  {
   "cell_type": "code",
   "execution_count": 344,
   "metadata": {},
   "outputs": [
    {
     "data": {
      "text/html": [
       "<div>\n",
       "<style scoped>\n",
       "    .dataframe tbody tr th:only-of-type {\n",
       "        vertical-align: middle;\n",
       "    }\n",
       "\n",
       "    .dataframe tbody tr th {\n",
       "        vertical-align: top;\n",
       "    }\n",
       "\n",
       "    .dataframe thead th {\n",
       "        text-align: right;\n",
       "    }\n",
       "</style>\n",
       "<table border=\"1\" class=\"dataframe\">\n",
       "  <thead>\n",
       "    <tr style=\"text-align: right;\">\n",
       "      <th></th>\n",
       "      <th>Date</th>\n",
       "      <th>Open</th>\n",
       "      <th>High</th>\n",
       "      <th>Low</th>\n",
       "      <th>Close</th>\n",
       "      <th>Adj_Close</th>\n",
       "      <th>Volume</th>\n",
       "    </tr>\n",
       "  </thead>\n",
       "  <tbody>\n",
       "    <tr>\n",
       "      <th>0</th>\n",
       "      <td>2011-07-01</td>\n",
       "      <td>253.623627</td>\n",
       "      <td>314.064056</td>\n",
       "      <td>253.443436</td>\n",
       "      <td>302.147156</td>\n",
       "      <td>302.147156</td>\n",
       "      <td>161948890</td>\n",
       "    </tr>\n",
       "    <tr>\n",
       "      <th>1</th>\n",
       "      <td>2011-08-01</td>\n",
       "      <td>305.915924</td>\n",
       "      <td>308.058044</td>\n",
       "      <td>245.675674</td>\n",
       "      <td>270.750763</td>\n",
       "      <td>270.750763</td>\n",
       "      <td>213337649</td>\n",
       "    </tr>\n",
       "    <tr>\n",
       "      <th>2</th>\n",
       "      <td>2011-09-01</td>\n",
       "      <td>270.645660</td>\n",
       "      <td>279.539551</td>\n",
       "      <td>255.505508</td>\n",
       "      <td>257.777771</td>\n",
       "      <td>257.777771</td>\n",
       "      <td>117142138</td>\n",
       "    </tr>\n",
       "    <tr>\n",
       "      <th>3</th>\n",
       "      <td>2011-10-01</td>\n",
       "      <td>255.180176</td>\n",
       "      <td>301.651642</td>\n",
       "      <td>240.540543</td>\n",
       "      <td>296.616608</td>\n",
       "      <td>296.616608</td>\n",
       "      <td>154276567</td>\n",
       "    </tr>\n",
       "    <tr>\n",
       "      <th>4</th>\n",
       "      <td>2011-11-01</td>\n",
       "      <td>290.340332</td>\n",
       "      <td>309.459473</td>\n",
       "      <td>280.945953</td>\n",
       "      <td>299.994995</td>\n",
       "      <td>299.994995</td>\n",
       "      <td>120480396</td>\n",
       "    </tr>\n",
       "    <tr>\n",
       "      <th>5</th>\n",
       "      <td>2011-12-01</td>\n",
       "      <td>300.300293</td>\n",
       "      <td>323.703705</td>\n",
       "      <td>299.799805</td>\n",
       "      <td>323.273285</td>\n",
       "      <td>323.273285</td>\n",
       "      <td>109984906</td>\n",
       "    </tr>\n",
       "    <tr>\n",
       "      <th>6</th>\n",
       "      <td>2012-01-01</td>\n",
       "      <td>326.796783</td>\n",
       "      <td>335.460449</td>\n",
       "      <td>282.557556</td>\n",
       "      <td>290.345337</td>\n",
       "      <td>290.345337</td>\n",
       "      <td>147137914</td>\n",
       "    </tr>\n",
       "    <tr>\n",
       "      <th>7</th>\n",
       "      <td>2012-02-01</td>\n",
       "      <td>292.762756</td>\n",
       "      <td>313.113098</td>\n",
       "      <td>289.859863</td>\n",
       "      <td>309.434448</td>\n",
       "      <td>309.434448</td>\n",
       "      <td>94634472</td>\n",
       "    </tr>\n",
       "    <tr>\n",
       "      <th>8</th>\n",
       "      <td>2012-03-01</td>\n",
       "      <td>311.441437</td>\n",
       "      <td>329.624634</td>\n",
       "      <td>297.217224</td>\n",
       "      <td>320.940948</td>\n",
       "      <td>320.940948</td>\n",
       "      <td>94565740</td>\n",
       "    </tr>\n",
       "    <tr>\n",
       "      <th>9</th>\n",
       "      <td>2012-04-01</td>\n",
       "      <td>320.705719</td>\n",
       "      <td>326.896912</td>\n",
       "      <td>295.395386</td>\n",
       "      <td>302.727722</td>\n",
       "      <td>302.727722</td>\n",
       "      <td>117637645</td>\n",
       "    </tr>\n",
       "  </tbody>\n",
       "</table>\n",
       "</div>"
      ],
      "text/plain": [
       "        Date        Open        High         Low       Close   Adj_Close  \\\n",
       "0 2011-07-01  253.623627  314.064056  253.443436  302.147156  302.147156   \n",
       "1 2011-08-01  305.915924  308.058044  245.675674  270.750763  270.750763   \n",
       "2 2011-09-01  270.645660  279.539551  255.505508  257.777771  257.777771   \n",
       "3 2011-10-01  255.180176  301.651642  240.540543  296.616608  296.616608   \n",
       "4 2011-11-01  290.340332  309.459473  280.945953  299.994995  299.994995   \n",
       "5 2011-12-01  300.300293  323.703705  299.799805  323.273285  323.273285   \n",
       "6 2012-01-01  326.796783  335.460449  282.557556  290.345337  290.345337   \n",
       "7 2012-02-01  292.762756  313.113098  289.859863  309.434448  309.434448   \n",
       "8 2012-03-01  311.441437  329.624634  297.217224  320.940948  320.940948   \n",
       "9 2012-04-01  320.705719  326.896912  295.395386  302.727722  302.727722   \n",
       "\n",
       "      Volume  \n",
       "0  161948890  \n",
       "1  213337649  \n",
       "2  117142138  \n",
       "3  154276567  \n",
       "4  120480396  \n",
       "5  109984906  \n",
       "6  147137914  \n",
       "7   94634472  \n",
       "8   94565740  \n",
       "9  117637645  "
      ]
     },
     "execution_count": 344,
     "metadata": {},
     "output_type": "execute_result"
    }
   ],
   "source": [
    "df.loc[:, 'Date'] = pd.to_datetime(df['Date'],format='%Y-%m-%d')\n",
    "\n",
    "df.columns = [str(x).replace(' ', '_') for x in df.columns]\n",
    "\n",
    "df.sort_values(by='Date', inplace=True, ascending=True)\n",
    "\n",
    "df.head(10)"
   ]
  },
  {
   "cell_type": "code",
   "execution_count": 345,
   "metadata": {},
   "outputs": [],
   "source": [
    "from sklearn.linear_model import LinearRegression\n",
    "from sklearn import preprocessing\n",
    "from sklearn.model_selection import train_test_split\n",
    "from sklearn import neighbors\n",
    "from math import sqrt"
   ]
  },
  {
   "cell_type": "code",
   "execution_count": 346,
   "metadata": {},
   "outputs": [],
   "source": [
    "dfreg = df.loc[:,['Open','Close','Adj_Close','Volume']]"
   ]
  },
  {
   "cell_type": "code",
   "execution_count": 347,
   "metadata": {},
   "outputs": [],
   "source": [
    "dfreg.fillna(value=-99999, inplace=True)\n",
    "\n",
    "forecast_out = int(math.ceil(0.01 * len(dfreg)))\n",
    "\n",
    "dfreg['label'] = dfreg['Adj_Close'].shift(-forecast_out)\n",
    "\n",
    "X = np.array(dfreg.drop(['label'], 1))\n",
    "\n",
    "X = preprocessing.scale(X)\n",
    "\n",
    "X = X[:-forecast_out]\n",
    "\n",
    "y = np.array(dfreg['label'])\n",
    "\n",
    "y = y[:-forecast_out]"
   ]
  },
  {
   "cell_type": "code",
   "execution_count": 348,
   "metadata": {},
   "outputs": [],
   "source": [
    "X_train, X_test, y_train, y_test = train_test_split(X, y, test_size=0.2, random_state=42)"
   ]
  },
  {
   "cell_type": "code",
   "execution_count": 349,
   "metadata": {},
   "outputs": [
    {
     "data": {
      "text/plain": [
       "LinearRegression(n_jobs=-1)"
      ]
     },
     "execution_count": 349,
     "metadata": {},
     "output_type": "execute_result"
    }
   ],
   "source": [
    "clfreg = LinearRegression(n_jobs=-1)\n",
    "clfreg.fit(X_train, y_train)"
   ]
  },
  {
   "cell_type": "code",
   "execution_count": 350,
   "metadata": {},
   "outputs": [
    {
     "name": "stdout",
     "output_type": "stream",
     "text": [
      "0.988082208571805\n"
     ]
    }
   ],
   "source": [
    "print(clfreg.score(X_test, y_test))"
   ]
  },
  {
   "cell_type": "code",
   "execution_count": 351,
   "metadata": {},
   "outputs": [],
   "source": [
    "ypred=clfreg.predict(X_test)"
   ]
  },
  {
   "cell_type": "code",
   "execution_count": 352,
   "metadata": {},
   "outputs": [
    {
     "name": "stdout",
     "output_type": "stream",
     "text": [
      "MAE = 41.51080651534772\n",
      "MSE = 3115.47645237366\n",
      "RMSE = 55.81645324072159\n"
     ]
    }
   ],
   "source": [
    "print('MAE =',metrics.mean_absolute_error(y_test,ypred))\n",
    "print('MSE =',metrics.mean_squared_error(y_test,ypred))\n",
    "print('RMSE =',np.sqrt(metrics.mean_squared_error(y_test,ypred)))\n"
   ]
  },
  {
   "cell_type": "code",
   "execution_count": 353,
   "metadata": {},
   "outputs": [
    {
     "data": {
      "image/png": "[encoded data removed]",
      "text/plain": [
       "<Figure size 432x288 with 1 Axes>"
      ]
     },
     "metadata": {
      "needs_background": "light"
     },
     "output_type": "display_data"
    }
   ],
   "source": [
    "plt.scatter(y_test,ypred)\n",
    "plt.xlabel(\"Real\")\n",
    "plt.ylabel(\"Predicted\")\n",
    "plt.title(\"Logistic Regression\")\n",
    "plt.show()"
   ]
  },
  {
   "cell_type": "markdown",
   "metadata": {},
   "source": [
    "##  2)KNN"
   ]
  },
  {
   "cell_type": "code",
   "execution_count": 354,
   "metadata": {},
   "outputs": [],
   "source": [
    "df = pd.read_csv(r'C:\\Users\\vkumar\\Downloads\\GOOGL.csv')"
   ]
  },
  {
   "cell_type": "code",
   "execution_count": 355,
   "metadata": {},
   "outputs": [
    {
     "data": {
      "text/html": [
       "<div>\n",
       "<style scoped>\n",
       "    .dataframe tbody tr th:only-of-type {\n",
       "        vertical-align: middle;\n",
       "    }\n",
       "\n",
       "    .dataframe tbody tr th {\n",
       "        vertical-align: top;\n",
       "    }\n",
       "\n",
       "    .dataframe thead th {\n",
       "        text-align: right;\n",
       "    }\n",
       "</style>\n",
       "<table border=\"1\" class=\"dataframe\">\n",
       "  <thead>\n",
       "    <tr style=\"text-align: right;\">\n",
       "      <th></th>\n",
       "      <th>Date</th>\n",
       "      <th>Open</th>\n",
       "      <th>High</th>\n",
       "      <th>Low</th>\n",
       "      <th>Close</th>\n",
       "      <th>Adj_Close</th>\n",
       "      <th>Volume</th>\n",
       "    </tr>\n",
       "  </thead>\n",
       "  <tbody>\n",
       "    <tr>\n",
       "      <th>0</th>\n",
       "      <td>2011-07-01</td>\n",
       "      <td>253.623627</td>\n",
       "      <td>314.064056</td>\n",
       "      <td>253.443436</td>\n",
       "      <td>302.147156</td>\n",
       "      <td>302.147156</td>\n",
       "      <td>161948890</td>\n",
       "    </tr>\n",
       "    <tr>\n",
       "      <th>1</th>\n",
       "      <td>2011-08-01</td>\n",
       "      <td>305.915924</td>\n",
       "      <td>308.058044</td>\n",
       "      <td>245.675674</td>\n",
       "      <td>270.750763</td>\n",
       "      <td>270.750763</td>\n",
       "      <td>213337649</td>\n",
       "    </tr>\n",
       "    <tr>\n",
       "      <th>2</th>\n",
       "      <td>2011-09-01</td>\n",
       "      <td>270.645660</td>\n",
       "      <td>279.539551</td>\n",
       "      <td>255.505508</td>\n",
       "      <td>257.777771</td>\n",
       "      <td>257.777771</td>\n",
       "      <td>117142138</td>\n",
       "    </tr>\n",
       "    <tr>\n",
       "      <th>3</th>\n",
       "      <td>2011-10-01</td>\n",
       "      <td>255.180176</td>\n",
       "      <td>301.651642</td>\n",
       "      <td>240.540543</td>\n",
       "      <td>296.616608</td>\n",
       "      <td>296.616608</td>\n",
       "      <td>154276567</td>\n",
       "    </tr>\n",
       "    <tr>\n",
       "      <th>4</th>\n",
       "      <td>2011-11-01</td>\n",
       "      <td>290.340332</td>\n",
       "      <td>309.459473</td>\n",
       "      <td>280.945953</td>\n",
       "      <td>299.994995</td>\n",
       "      <td>299.994995</td>\n",
       "      <td>120480396</td>\n",
       "    </tr>\n",
       "    <tr>\n",
       "      <th>5</th>\n",
       "      <td>2011-12-01</td>\n",
       "      <td>300.300293</td>\n",
       "      <td>323.703705</td>\n",
       "      <td>299.799805</td>\n",
       "      <td>323.273285</td>\n",
       "      <td>323.273285</td>\n",
       "      <td>109984906</td>\n",
       "    </tr>\n",
       "    <tr>\n",
       "      <th>6</th>\n",
       "      <td>2012-01-01</td>\n",
       "      <td>326.796783</td>\n",
       "      <td>335.460449</td>\n",
       "      <td>282.557556</td>\n",
       "      <td>290.345337</td>\n",
       "      <td>290.345337</td>\n",
       "      <td>147137914</td>\n",
       "    </tr>\n",
       "    <tr>\n",
       "      <th>7</th>\n",
       "      <td>2012-02-01</td>\n",
       "      <td>292.762756</td>\n",
       "      <td>313.113098</td>\n",
       "      <td>289.859863</td>\n",
       "      <td>309.434448</td>\n",
       "      <td>309.434448</td>\n",
       "      <td>94634472</td>\n",
       "    </tr>\n",
       "    <tr>\n",
       "      <th>8</th>\n",
       "      <td>2012-03-01</td>\n",
       "      <td>311.441437</td>\n",
       "      <td>329.624634</td>\n",
       "      <td>297.217224</td>\n",
       "      <td>320.940948</td>\n",
       "      <td>320.940948</td>\n",
       "      <td>94565740</td>\n",
       "    </tr>\n",
       "    <tr>\n",
       "      <th>9</th>\n",
       "      <td>2012-04-01</td>\n",
       "      <td>320.705719</td>\n",
       "      <td>326.896912</td>\n",
       "      <td>295.395386</td>\n",
       "      <td>302.727722</td>\n",
       "      <td>302.727722</td>\n",
       "      <td>117637645</td>\n",
       "    </tr>\n",
       "  </tbody>\n",
       "</table>\n",
       "</div>"
      ],
      "text/plain": [
       "        Date        Open        High         Low       Close   Adj_Close  \\\n",
       "0 2011-07-01  253.623627  314.064056  253.443436  302.147156  302.147156   \n",
       "1 2011-08-01  305.915924  308.058044  245.675674  270.750763  270.750763   \n",
       "2 2011-09-01  270.645660  279.539551  255.505508  257.777771  257.777771   \n",
       "3 2011-10-01  255.180176  301.651642  240.540543  296.616608  296.616608   \n",
       "4 2011-11-01  290.340332  309.459473  280.945953  299.994995  299.994995   \n",
       "5 2011-12-01  300.300293  323.703705  299.799805  323.273285  323.273285   \n",
       "6 2012-01-01  326.796783  335.460449  282.557556  290.345337  290.345337   \n",
       "7 2012-02-01  292.762756  313.113098  289.859863  309.434448  309.434448   \n",
       "8 2012-03-01  311.441437  329.624634  297.217224  320.940948  320.940948   \n",
       "9 2012-04-01  320.705719  326.896912  295.395386  302.727722  302.727722   \n",
       "\n",
       "      Volume  \n",
       "0  161948890  \n",
       "1  213337649  \n",
       "2  117142138  \n",
       "3  154276567  \n",
       "4  120480396  \n",
       "5  109984906  \n",
       "6  147137914  \n",
       "7   94634472  \n",
       "8   94565740  \n",
       "9  117637645  "
      ]
     },
     "execution_count": 355,
     "metadata": {},
     "output_type": "execute_result"
    }
   ],
   "source": [
    "df.loc[:, 'Date'] = pd.to_datetime(df['Date'],format='%Y-%m-%d')\n",
    "\n",
    "df.columns = [str(x).replace(' ', '_') for x in df.columns]\n",
    "\n",
    "df.sort_values(by='Date', inplace=True, ascending=True)\n",
    "\n",
    "df.head(10)"
   ]
  },
  {
   "cell_type": "code",
   "execution_count": 356,
   "metadata": {},
   "outputs": [],
   "source": [
    "from sklearn.neighbors import KNeighborsRegressor\n",
    "from sklearn import preprocessing\n",
    "from sklearn.model_selection import train_test_split\n",
    "from sklearn import neighbors\n",
    "from math import sqrt"
   ]
  },
  {
   "cell_type": "code",
   "execution_count": 357,
   "metadata": {},
   "outputs": [],
   "source": [
    "dfreg = df.loc[:,['Open','Close','Adj_Close','Volume']]"
   ]
  },
  {
   "cell_type": "code",
   "execution_count": 358,
   "metadata": {},
   "outputs": [],
   "source": [
    "dfreg.fillna(value=-99999, inplace=True)\n",
    "\n",
    "forecast_out = int(math.ceil(0.02 * len(dfreg)))\n",
    "\n",
    "dfreg['label'] = dfreg['Adj_Close'].shift(-forecast_out)\n",
    "\n",
    "X = np.array(dfreg.drop(['label'], 1))\n",
    "\n",
    "X = preprocessing.scale(X)\n",
    "\n",
    "X = X[:-forecast_out]\n",
    "X_lately = X[-forecast_out:]\n",
    "\n",
    "y = np.array(dfreg['label'])\n",
    "\n",
    "y = y[:-forecast_out]"
   ]
  },
  {
   "cell_type": "code",
   "execution_count": 359,
   "metadata": {},
   "outputs": [],
   "source": [
    "X_train, X_test, y_train, y_test = train_test_split(X, y, test_size=0.3, random_state=42)"
   ]
  },
  {
   "cell_type": "code",
   "execution_count": 360,
   "metadata": {},
   "outputs": [
    {
     "data": {
      "text/plain": [
       "KNeighborsRegressor(n_neighbors=6)"
      ]
     },
     "execution_count": 360,
     "metadata": {},
     "output_type": "execute_result"
    }
   ],
   "source": [
    "clfknn = KNeighborsRegressor(n_neighbors=6)\n",
    "clfknn.fit(X_train, y_train)"
   ]
  },
  {
   "cell_type": "code",
   "execution_count": 361,
   "metadata": {},
   "outputs": [
    {
     "name": "stdout",
     "output_type": "stream",
     "text": [
      "0.9542956450301342\n"
     ]
    }
   ],
   "source": [
    "print(clfknn.score(X_test, y_test))"
   ]
  },
  {
   "cell_type": "code",
   "execution_count": 362,
   "metadata": {},
   "outputs": [
    {
     "name": "stdout",
     "output_type": "stream",
     "text": [
      "RMSE value for k=  1 is: 76.75302913155613\n",
      "RMSE value for k=  2 is: 87.61092248733175\n",
      "RMSE value for k=  3 is: 65.28891584685111\n",
      "RMSE value for k=  4 is: 83.1675113246326\n",
      "RMSE value for k=  5 is: 95.46329464333972\n",
      "RMSE value for k=  6 is: 103.29848534765618\n",
      "RMSE value for k=  7 is: 109.42610414358205\n",
      "RMSE value for k=  8 is: 121.0338570635488\n",
      "RMSE value for k=  9 is: 118.31796354961833\n",
      "RMSE value for k=  10 is: 125.65883829022552\n",
      "RMSE value for k=  11 is: 133.2866699613601\n",
      "RMSE value for k=  12 is: 138.3585119639466\n",
      "RMSE value for k=  13 is: 144.93470362712077\n",
      "RMSE value for k=  14 is: 156.12597527764734\n",
      "RMSE value for k=  15 is: 161.72559343812233\n"
     ]
    }
   ],
   "source": [
    "rmse_val = [] \n",
    "for K in range(15):\n",
    "    K = K+1\n",
    "    model = neighbors.KNeighborsRegressor(n_neighbors = K)\n",
    "\n",
    "    model.fit(X_train, y_train)  \n",
    "    pred=model.predict(X_test)\n",
    "    error = np.sqrt(metrics.mean_squared_error(y_test,pred)) \n",
    "    rmse_val.append(error) \n",
    "    print('RMSE value for k= ' , K , 'is:', error)"
   ]
  },
  {
   "cell_type": "code",
   "execution_count": 363,
   "metadata": {},
   "outputs": [
    {
     "data": {
      "text/plain": [
       "Text(0, 0.5, 'RMSE')"
      ]
     },
     "execution_count": 363,
     "metadata": {},
     "output_type": "execute_result"
    },
    {
     "data": {
      "image/png": "[encoded data removed]",
      "text/plain": [
       "<Figure size 432x288 with 1 Axes>"
      ]
     },
     "metadata": {
      "needs_background": "light"
     },
     "output_type": "display_data"
    }
   ],
   "source": [
    "plt.figure(figsize=(6, 4))\n",
    "plt.plot(range(1, K+1), rmse_val, 'x-')\n",
    "plt.grid(b=True, which='minor', color='w', linestyle='-')\n",
    "plt.xlabel('K')\n",
    "plt.ylabel('RMSE')"
   ]
  },
  {
   "cell_type": "code",
   "execution_count": 364,
   "metadata": {},
   "outputs": [],
   "source": [
    "def get_mape(y_true, y_pred): \n",
    "    \n",
    "    y_true, y_pred = np.array(y_true), np.array(y_pred)\n",
    "    return np.mean(np.abs((y_true - y_pred) / y_true)) * 100"
   ]
  },
  {
   "cell_type": "code",
   "execution_count": 365,
   "metadata": {},
   "outputs": [],
   "source": [
    "mape=[]\n",
    "for K in range(15):\n",
    "    K = K+1\n",
    "    model = neighbors.KNeighborsRegressor(n_neighbors = K)\n",
    "\n",
    "    model.fit(X_train, y_train)  \n",
    "    pred=model.predict(X_test)\n",
    "    error = get_mape(y_test,pred)\n",
    "    mape.append(error) "
   ]
  },
  {
   "cell_type": "code",
   "execution_count": 366,
   "metadata": {
    "scrolled": true
   },
   "outputs": [
    {
     "data": {
      "text/plain": [
       "Text(0, 0.5, 'MAPE')"
      ]
     },
     "execution_count": 366,
     "metadata": {},
     "output_type": "execute_result"
    },
    {
     "data": {
      "image/png": "[encoded data removed]",
      "text/plain": [
       "<Figure size 432x288 with 1 Axes>"
      ]
     },
     "metadata": {
      "needs_background": "light"
     },
     "output_type": "display_data"
    }
   ],
   "source": [
    "plt.figure(figsize=(6,4))\n",
    "plt.plot(range(1, K+1), mape, 'x-')\n",
    "plt.grid(b=True, which='minor', color='w', linestyle='-')\n",
    "\n",
    "plt.xlabel('K')\n",
    "plt.ylabel('MAPE')\n"
   ]
  },
  {
   "cell_type": "code",
   "execution_count": 367,
   "metadata": {},
   "outputs": [
    {
     "name": "stdout",
     "output_type": "stream",
     "text": [
      "[0.9747674742211758, 0.9671234540799282, 0.9817421938812169, 0.970373722326624, 0.9609660488387617, 0.9542956450301342, 0.9487124974103363, 0.9372543787199177, 0.9400386987401435, 0.9323674507116438, 0.9239072793548457, 0.918006119225771, 0.9100265340802837, 0.8955953106294815, 0.8879718449496045]\n"
     ]
    }
   ],
   "source": [
    "R2=[]\n",
    "for K in range(15):\n",
    "    K = K+1\n",
    "    model = neighbors.KNeighborsRegressor(n_neighbors = K)\n",
    "    model.fit(X_train, y_train)  \n",
    "    pred=model.predict(X_test)\n",
    "    error = r2_score(y_test,pred)\n",
    "    R2.append(error) \n",
    "print(R2)"
   ]
  },
  {
   "cell_type": "code",
   "execution_count": 368,
   "metadata": {},
   "outputs": [
    {
     "data": {
      "text/plain": [
       "Text(0, 0.5, 'R2')"
      ]
     },
     "execution_count": 368,
     "metadata": {},
     "output_type": "execute_result"
    },
    {
     "data": {
      "image/png": "[encoded data removed]",
      "text/plain": [
       "<Figure size 576x288 with 1 Axes>"
      ]
     },
     "metadata": {
      "needs_background": "light"
     },
     "output_type": "display_data"
    }
   ],
   "source": [
    "plt.figure(figsize=(8, 4))\n",
    "plt.plot(range(1,K+1), R2, 'x-')\n",
    "plt.grid(b=True, which='minor', color='w', linestyle='-')\n",
    "plt.xlabel('K')\n",
    "plt.ylabel('R2')"
   ]
  },
  {
   "cell_type": "code",
   "execution_count": 369,
   "metadata": {},
   "outputs": [
    {
     "data": {
      "image/png": "[encoded data removed]",
      "text/plain": [
       "<Figure size 432x288 with 1 Axes>"
      ]
     },
     "metadata": {
      "needs_background": "light"
     },
     "output_type": "display_data"
    }
   ],
   "source": [
    "plt.scatter(y_test,pred)\n",
    "plt.xlabel(\"Real\")\n",
    "plt.ylabel(\"Predicted\")\n",
    "plt.title(\"KNN\")\n",
    "plt.show()"
   ]
  },
  {
   "cell_type": "markdown",
   "metadata": {},
   "source": [
    "## 3)Random Forest"
   ]
  },
  {
   "cell_type": "code",
   "execution_count": 370,
   "metadata": {},
   "outputs": [],
   "source": [
    "df = pd.read_csv(r'C:\\Users\\vkumar\\Downloads\\GOOGL.csv')"
   ]
  },
  {
   "cell_type": "code",
   "execution_count": 371,
   "metadata": {},
   "outputs": [],
   "source": [
    "from sklearn.ensemble import RandomForestRegressor\n",
    "from sklearn.model_selection import ParameterGrid\n",
    "from sklearn.ensemble import RandomForestClassifier\n"
   ]
  },
  {
   "cell_type": "code",
   "execution_count": 372,
   "metadata": {},
   "outputs": [],
   "source": [
    "#dfreg = df.loc[:,['Adj_Close', 'Volume']]"
   ]
  },
  {
   "cell_type": "code",
   "execution_count": 373,
   "metadata": {},
   "outputs": [],
   "source": [
    "dfreg.fillna(value=-99999, inplace=True)\n",
    "\n",
    "forecast_out = int(math.ceil(0.02 * len(dfreg)))\n",
    "\n",
    "dfreg['label'] = dfreg['Adj_Close'].shift(-forecast_out)\n",
    "\n",
    "X = np.array(dfreg.drop(['label'], 1))\n",
    "\n",
    "X = preprocessing.scale(X)\n",
    "\n",
    "X = X[:-forecast_out]\n",
    "X_lately = X[-forecast_out:]\n",
    "\n",
    "y = np.array(dfreg['label'])\n",
    "\n",
    "y = y[:-forecast_out]"
   ]
  },
  {
   "cell_type": "code",
   "execution_count": 374,
   "metadata": {},
   "outputs": [],
   "source": [
    "X_train, X_test, y_train, y_test = train_test_split(X, y, test_size=0.3, random_state=42)"
   ]
  },
  {
   "cell_type": "code",
   "execution_count": 375,
   "metadata": {},
   "outputs": [],
   "source": [
    "clf = RandomForestRegressor(n_estimators = 50,random_state=42)"
   ]
  },
  {
   "cell_type": "code",
   "execution_count": 376,
   "metadata": {},
   "outputs": [],
   "source": [
    "model = clf.fit(X_train, y_train)"
   ]
  },
  {
   "cell_type": "code",
   "execution_count": 377,
   "metadata": {},
   "outputs": [
    {
     "name": "stdout",
     "output_type": "stream",
     "text": [
      "0.9768247934019361\n"
     ]
    }
   ],
   "source": [
    "print(model.score(X_test, y_test))"
   ]
  },
  {
   "cell_type": "code",
   "execution_count": 378,
   "metadata": {},
   "outputs": [
    {
     "name": "stdout",
     "output_type": "stream",
     "text": [
      "RMSE value for n_estimators=  10 is: 78.37155655762783\n",
      "RMSE value for n_estimators=  15 is: 74.57341627110546\n",
      "RMSE value for n_estimators=  20 is: 75.41864305474655\n",
      "RMSE value for n_estimators=  25 is: 74.04706825990992\n",
      "RMSE value for n_estimators=  30 is: 74.67093696308278\n",
      "RMSE value for n_estimators=  35 is: 74.25197377527\n",
      "RMSE value for n_estimators=  40 is: 72.51703885268981\n",
      "RMSE value for n_estimators=  45 is: 73.56729870247692\n",
      "RMSE value for n_estimators=  50 is: 73.55750140249727\n",
      "RMSE value for n_estimators=  55 is: 74.17918056325202\n",
      "RMSE value for n_estimators=  60 is: 73.94271803341405\n",
      "RMSE value for n_estimators=  65 is: 74.45647404954049\n",
      "RMSE value for n_estimators=  70 is: 73.9988873148306\n",
      "RMSE value for n_estimators=  75 is: 74.59000087682018\n",
      "RMSE value for n_estimators=  80 is: 74.43380646455901\n",
      "RMSE value for n_estimators=  85 is: 73.71464302877959\n",
      "RMSE value for n_estimators=  90 is: 73.51613789258928\n",
      "RMSE value for n_estimators=  95 is: 73.75135299678497\n"
     ]
    }
   ],
   "source": [
    "Rmse=[]\n",
    "for n in range(10,100,5):\n",
    "    clf = RandomForestRegressor(n_estimators = n,random_state=42)\n",
    "    model = clf.fit(X_train, y_train)\n",
    "    y_pred = model.predict(X_test)\n",
    "    error=np.sqrt(metrics.mean_squared_error(y_test, y_pred))\n",
    "    Rmse.append(error)\n",
    "    print('RMSE value for n_estimators= ' , n , 'is:', error)"
   ]
  },
  {
   "cell_type": "code",
   "execution_count": 379,
   "metadata": {},
   "outputs": [
    {
     "data": {
      "text/plain": [
       "Text(0, 0.5, 'RMSE')"
      ]
     },
     "execution_count": 379,
     "metadata": {},
     "output_type": "execute_result"
    },
    {
     "data": {
      "image/png": "[encoded data removed]",
      "text/plain": [
       "<Figure size 576x288 with 1 Axes>"
      ]
     },
     "metadata": {
      "needs_background": "light"
     },
     "output_type": "display_data"
    }
   ],
   "source": [
    "plt.figure(figsize=(8, 4))\n",
    "plt.plot(range(10, 100,5), Rmse, 'x-')\n",
    "plt.grid(b=True, which='minor', color='w', linestyle='-')\n",
    "plt.xticks([10,20,30,40,50,60,70,80,90,100])\n",
    "plt.xlabel('N_Estimators')\n",
    "plt.ylabel('RMSE')"
   ]
  },
  {
   "cell_type": "code",
   "execution_count": 380,
   "metadata": {},
   "outputs": [],
   "source": [
    "def get_mape(y_true, y_pred): \n",
    "    \n",
    "    y_true, y_pred = np.array(y_true), np.array(y_pred)\n",
    "    return np.mean(np.abs((y_true - y_pred) / y_true)) * 100"
   ]
  },
  {
   "cell_type": "code",
   "execution_count": 381,
   "metadata": {},
   "outputs": [
    {
     "name": "stdout",
     "output_type": "stream",
     "text": [
      "[6.557973328347669, 6.203824442933197, 6.205705584078219, 6.105761891130517, 6.048363797263585, 6.133724221158302, 6.031513049812816, 6.045317389552114, 5.997086138850892, 5.938371842620332, 5.984821556983918, 5.962837546779017, 5.965408272802281, 6.004464947372941, 5.968333529250908, 5.908936993949662, 5.91151487423149, 5.919998531523444]\n"
     ]
    }
   ],
   "source": [
    "mape=[]\n",
    "for n in range(10,100,5): \n",
    "    clf = RandomForestRegressor(n_estimators = n,random_state=42)\n",
    "    model = clf.fit(X_train, y_train)\n",
    "    y_pred = model.predict(X_test)\n",
    "    error=get_mape(y_test,y_pred)\n",
    "    mape.append(error)\n",
    "print(mape)"
   ]
  },
  {
   "cell_type": "code",
   "execution_count": 382,
   "metadata": {},
   "outputs": [
    {
     "data": {
      "text/plain": [
       "Text(0, 0.5, 'MAPE')"
      ]
     },
     "execution_count": 382,
     "metadata": {},
     "output_type": "execute_result"
    },
    {
     "data": {
      "image/png": "[encoded data removed]",
      "text/plain": [
       "<Figure size 576x288 with 1 Axes>"
      ]
     },
     "metadata": {
      "needs_background": "light"
     },
     "output_type": "display_data"
    }
   ],
   "source": [
    "plt.figure(figsize=(8,4))\n",
    "plt.plot(range(10,100,5), mape, 'x-')\n",
    "plt.grid(b=True, which='minor', color='w', linestyle='-')\n",
    "plt.xticks([10,20,30,40,50,60,70,80,90,100])\n",
    "plt.xlabel('N_Estimators')\n",
    "plt.ylabel('MAPE')"
   ]
  },
  {
   "cell_type": "code",
   "execution_count": 383,
   "metadata": {},
   "outputs": [
    {
     "name": "stdout",
     "output_type": "stream",
     "text": [
      "[0.9736920733734441, 0.9761802195157532, 0.9756372053048933, 0.9765152785528749, 0.9761178798657777, 0.9763851233088136, 0.9774757779167682, 0.9768186194681355, 0.9768247934019361, 0.976431402485592, 0.9765814232170826, 0.9762548668664303, 0.9765458306860896, 0.9761696236328086, 0.9762693226380268, 0.9767256687829488, 0.9768508502511491, 0.9767024817290545]\n"
     ]
    }
   ],
   "source": [
    "R2=[]\n",
    "for n in range(10,100,5): \n",
    "    clf = RandomForestRegressor(n_estimators = n,random_state=42)\n",
    "    model = clf.fit(X_train, y_train)\n",
    "    y_pred = model.predict(X_test)\n",
    "    error = r2_score(y_test,y_pred)\n",
    "    R2.append(error) \n",
    "print(R2)\n"
   ]
  },
  {
   "cell_type": "code",
   "execution_count": 384,
   "metadata": {},
   "outputs": [
    {
     "data": {
      "text/plain": [
       "Text(0, 0.5, 'R2')"
      ]
     },
     "execution_count": 384,
     "metadata": {},
     "output_type": "execute_result"
    },
    {
     "data": {
      "image/png": "[encoded data removed]",
      "text/plain": [
       "<Figure size 576x288 with 1 Axes>"
      ]
     },
     "metadata": {
      "needs_background": "light"
     },
     "output_type": "display_data"
    }
   ],
   "source": [
    "plt.figure(figsize=(8, 4))\n",
    "plt.plot(range(10, 100,5), R2, 'x-')\n",
    "plt.grid(b=True, which='minor', color='w', linestyle='-')\n",
    "plt.xticks([10,20,30,40,50,60,70,80,90,100])\n",
    "plt.xlabel('N_Estimators')\n",
    "plt.ylabel('R2')"
   ]
  },
  {
   "cell_type": "code",
   "execution_count": 385,
   "metadata": {},
   "outputs": [
    {
     "data": {
      "image/png": "[encoded data removed]",
      "text/plain": [
       "<Figure size 432x288 with 1 Axes>"
      ]
     },
     "metadata": {
      "needs_background": "light"
     },
     "output_type": "display_data"
    }
   ],
   "source": [
    "plt.scatter(y_test,y_pred)\n",
    "plt.xlabel(\"Real\")\n",
    "plt.ylabel(\"Predicted\")\n",
    "plt.title(\"Random Forest\")\n",
    "plt.show()"
   ]
  },
  {
   "cell_type": "markdown",
   "metadata": {},
   "source": [
    "## 4)XGBoost "
   ]
  },
  {
   "cell_type": "code",
   "execution_count": 386,
   "metadata": {},
   "outputs": [],
   "source": [
    "from xgboost import XGBRegressor"
   ]
  },
  {
   "cell_type": "code",
   "execution_count": 387,
   "metadata": {},
   "outputs": [],
   "source": [
    "df = pd.read_csv(r'C:\\Users\\vkumar\\Downloads\\GOOGL.csv')"
   ]
  },
  {
   "cell_type": "code",
   "execution_count": 388,
   "metadata": {},
   "outputs": [],
   "source": [
    "#dfreg = df.loc[:,['Adj_Close', 'Volume']]"
   ]
  },
  {
   "cell_type": "code",
   "execution_count": 389,
   "metadata": {},
   "outputs": [],
   "source": [
    "dfreg.fillna(value=-99999, inplace=True)\n",
    "\n",
    "forecast_out = int(math.ceil(0.02 * len(dfreg)))\n",
    "\n",
    "dfreg['label'] = dfreg['Adj_Close'].shift(-forecast_out)\n",
    "\n",
    "X = np.array(dfreg.drop(['label'], 1))\n",
    "\n",
    "X = preprocessing.scale(X)\n",
    "\n",
    "X = X[:-forecast_out]\n",
    "X_lately = X[-forecast_out:]\n",
    "\n",
    "y = np.array(dfreg['label'])\n",
    "\n",
    "y = y[:-forecast_out]"
   ]
  },
  {
   "cell_type": "code",
   "execution_count": 390,
   "metadata": {},
   "outputs": [],
   "source": [
    "X_train, X_test, y_train, y_test = train_test_split(X, y, test_size=0.3, random_state=42)"
   ]
  },
  {
   "cell_type": "code",
   "execution_count": 391,
   "metadata": {},
   "outputs": [
    {
     "data": {
      "text/plain": [
       "XGBRegressor(base_score=0.5, booster='gbtree', colsample_bylevel=1,\n",
       "             colsample_bynode=1, colsample_bytree=1, eval_metric='mlogloss',\n",
       "             gamma=0, gpu_id=-1, importance_type='gain',\n",
       "             interaction_constraints='', learning_rate=0.300000012,\n",
       "             max_delta_step=0, max_depth=6, min_child_weight=1, missing=nan,\n",
       "             monotone_constraints='()', n_estimators=15, n_jobs=8,\n",
       "             num_parallel_tree=1, random_state=0, reg_alpha=0, reg_lambda=1,\n",
       "             scale_pos_weight=1, subsample=1, tree_method='exact',\n",
       "             validate_parameters=1, verbosity=None)"
      ]
     },
     "execution_count": 391,
     "metadata": {},
     "output_type": "execute_result"
    }
   ],
   "source": [
    "clfxgb = XGBRegressor(eval_metric = \"mlogloss\",n_estimators=15)\n",
    "clfxgb.fit(X_train, y_train)"
   ]
  },
  {
   "cell_type": "code",
   "execution_count": 392,
   "metadata": {},
   "outputs": [
    {
     "name": "stdout",
     "output_type": "stream",
     "text": [
      "0.9580338606143847\n"
     ]
    }
   ],
   "source": [
    "print(clfxgb.score(X_test, y_test))"
   ]
  },
  {
   "cell_type": "code",
   "execution_count": 393,
   "metadata": {},
   "outputs": [
    {
     "name": "stdout",
     "output_type": "stream",
     "text": [
      "RMSE value for n_estimators=  10 is: 112.46074358352982\n",
      "RMSE value for n_estimators=  15 is: 98.98392501058058\n",
      "RMSE value for n_estimators=  20 is: 97.78659361317109\n",
      "RMSE value for n_estimators=  25 is: 97.91233200951528\n",
      "RMSE value for n_estimators=  30 is: 98.58444632881275\n",
      "RMSE value for n_estimators=  35 is: 98.38975830936675\n",
      "RMSE value for n_estimators=  40 is: 98.50213811497945\n",
      "RMSE value for n_estimators=  45 is: 98.67896292166232\n",
      "RMSE value for n_estimators=  50 is: 98.71187039368702\n",
      "RMSE value for n_estimators=  55 is: 98.76265961323062\n",
      "RMSE value for n_estimators=  60 is: 98.75182855173783\n",
      "RMSE value for n_estimators=  65 is: 98.80344730712004\n",
      "RMSE value for n_estimators=  70 is: 98.82587343109753\n",
      "RMSE value for n_estimators=  75 is: 98.84109891904082\n",
      "RMSE value for n_estimators=  80 is: 98.85126160194288\n",
      "RMSE value for n_estimators=  85 is: 98.85869301019383\n",
      "RMSE value for n_estimators=  90 is: 98.86325699658752\n",
      "RMSE value for n_estimators=  95 is: 98.86413692450836\n"
     ]
    }
   ],
   "source": [
    "Rmse=[]\n",
    "for n in range(10,100,5):\n",
    "    clf = XGBRegressor(n_estimators = n,random_state=42)\n",
    "    model = clf.fit(X_train, y_train)\n",
    "    y_pred = model.predict(X_test)\n",
    "    error=np.sqrt(metrics.mean_squared_error(y_test, y_pred))\n",
    "    Rmse.append(error)\n",
    "    print('RMSE value for n_estimators= ' , n , 'is:', error)"
   ]
  },
  {
   "cell_type": "code",
   "execution_count": 394,
   "metadata": {},
   "outputs": [
    {
     "data": {
      "text/plain": [
       "Text(0, 0.5, 'RMSE')"
      ]
     },
     "execution_count": 394,
     "metadata": {},
     "output_type": "execute_result"
    },
    {
     "data": {
      "image/png": "[encoded data removed]",
      "text/plain": [
       "<Figure size 576x288 with 1 Axes>"
      ]
     },
     "metadata": {
      "needs_background": "light"
     },
     "output_type": "display_data"
    }
   ],
   "source": [
    "plt.figure(figsize=(8, 4))\n",
    "plt.plot(range(10, 100,5), Rmse, 'x-')\n",
    "plt.grid(b=True, which='minor', color='w', linestyle='-')\n",
    "plt.xticks([10,20,30,40,50,60,70,80,90,100])\n",
    "plt.xlabel('N_Estimators')\n",
    "plt.ylabel('RMSE')"
   ]
  },
  {
   "cell_type": "code",
   "execution_count": 395,
   "metadata": {},
   "outputs": [],
   "source": [
    "def get_mape(y_true, y_pred): \n",
    "    \n",
    "    y_true, y_pred = np.array(y_true), np.array(y_pred)\n",
    "    return np.mean(np.abs((y_true - y_pred) / y_true)) * 100"
   ]
  },
  {
   "cell_type": "code",
   "execution_count": 396,
   "metadata": {},
   "outputs": [
    {
     "name": "stdout",
     "output_type": "stream",
     "text": [
      "[7.461767329937639, 6.913603450908735, 6.994874788862295, 7.124036737010707, 7.362996131110454, 7.354354795552448, 7.430297013737004, 7.464842754637396, 7.503277233846922, 7.522603726043007, 7.532426240648915, 7.541145090179639, 7.549329564377887, 7.5519605477946, 7.553118386803901, 7.55477166155446, 7.555269812284799, 7.556408488137387]\n"
     ]
    }
   ],
   "source": [
    "mape=[]\n",
    "for n in range(10,100,5): \n",
    "    clf = XGBRegressor(n_estimators = n,random_state=42)\n",
    "    model = clf.fit(X_train, y_train)\n",
    "    y_pred = model.predict(X_test)\n",
    "    error=get_mape(y_test,y_pred)\n",
    "    mape.append(error)\n",
    "print(mape)"
   ]
  },
  {
   "cell_type": "code",
   "execution_count": 397,
   "metadata": {},
   "outputs": [
    {
     "data": {
      "text/plain": [
       "Text(0, 0.5, 'MAPE')"
      ]
     },
     "execution_count": 397,
     "metadata": {},
     "output_type": "execute_result"
    },
    {
     "data": {
      "image/png": "[encoded data removed]",
      "text/plain": [
       "<Figure size 576x288 with 1 Axes>"
      ]
     },
     "metadata": {
      "needs_background": "light"
     },
     "output_type": "display_data"
    }
   ],
   "source": [
    "plt.figure(figsize=(8,4))\n",
    "plt.plot(range(10,100,5), mape, 'x-')\n",
    "plt.grid(b=True, which='minor', color='w', linestyle='-')\n",
    "plt.xticks([10,20,30,40,50,60,70,80,90,100])\n",
    "plt.xlabel('N_Estimators')\n",
    "plt.ylabel('MAPE')"
   ]
  },
  {
   "cell_type": "code",
   "execution_count": 398,
   "metadata": {},
   "outputs": [
    {
     "name": "stdout",
     "output_type": "stream",
     "text": [
      "[0.9458284105552149, 0.9580338606143847, 0.959042983552957, 0.9589375870902408, 0.958371910431085, 0.9585361653028677, 0.9584413920481396, 0.9582920513572203, 0.9582642291757992, 0.9582212703596071, 0.9582304334011629, 0.9581867550899852, 0.9581677716342644, 0.9581548809786221, 0.9581462756405094, 0.9581399824723932, 0.9581361172996974, 0.9581353720812145]\n"
     ]
    }
   ],
   "source": [
    "R2=[]\n",
    "for n in range(10,100,5): \n",
    "    clf = XGBRegressor(n_estimators = n,random_state=42)\n",
    "    model = clf.fit(X_train, y_train)\n",
    "    y_pred = model.predict(X_test)\n",
    "    error = r2_score(y_test,y_pred)\n",
    "    R2.append(error) \n",
    "print(R2)"
   ]
  },
  {
   "cell_type": "code",
   "execution_count": 399,
   "metadata": {},
   "outputs": [
    {
     "data": {
      "text/plain": [
       "Text(0, 0.5, 'R2')"
      ]
     },
     "execution_count": 399,
     "metadata": {},
     "output_type": "execute_result"
    },
    {
     "data": {
      "image/png": "[encoded data removed]",
      "text/plain": [
       "<Figure size 576x288 with 1 Axes>"
      ]
     },
     "metadata": {
      "needs_background": "light"
     },
     "output_type": "display_data"
    }
   ],
   "source": [
    "plt.figure(figsize=(8, 4))\n",
    "plt.plot(range(10, 100,5), R2, 'x-')\n",
    "plt.grid(b=True, which='minor', color='w', linestyle='-')\n",
    "plt.xticks([10,20,30,40,50,60,70,80,90,100])\n",
    "plt.xlabel('N_Estimators')\n",
    "plt.ylabel('R2')"
   ]
  },
  {
   "cell_type": "code",
   "execution_count": 400,
   "metadata": {},
   "outputs": [
    {
     "data": {
      "image/png": "[encoded data removed]",
      "text/plain": [
       "<Figure size 432x288 with 1 Axes>"
      ]
     },
     "metadata": {
      "needs_background": "light"
     },
     "output_type": "display_data"
    }
   ],
   "source": [
    "plt.scatter(y_test,y_pred)\n",
    "plt.xlabel(\"Real\")\n",
    "plt.ylabel(\"Predicted\")\n",
    "plt.title(\"XGBoost\")\n",
    "plt.show()"
   ]
  },
  {
   "cell_type": "markdown",
   "metadata": {},
   "source": [
    "## 5)Neural Network"
   ]
  },
  {
   "cell_type": "code",
   "execution_count": 430,
   "metadata": {},
   "outputs": [],
   "source": [
    "from sklearn.neural_network import MLPRegressor"
   ]
  },
  {
   "cell_type": "code",
   "execution_count": 431,
   "metadata": {},
   "outputs": [],
   "source": [
    "df = pd.read_csv(r'C:\\Users\\vkumar\\Downloads\\GOOGL.csv')"
   ]
  },
  {
   "cell_type": "code",
   "execution_count": 432,
   "metadata": {},
   "outputs": [],
   "source": [
    "#dfreg = df.loc[:,['Adj_Close', 'Volume']]"
   ]
  },
  {
   "cell_type": "code",
   "execution_count": 433,
   "metadata": {},
   "outputs": [],
   "source": [
    "dfreg.fillna(value=-99999, inplace=True)\n",
    "\n",
    "forecast_out = int(math.ceil(0.02 * len(dfreg)))\n",
    "\n",
    "dfreg['label'] = dfreg['Adj_Close'].shift(-forecast_out)\n",
    "\n",
    "X = np.array(dfreg.drop(['label'], 1))\n",
    "\n",
    "X = preprocessing.scale(X)\n",
    "\n",
    "X = X[:-forecast_out]\n",
    "X_lately = X[-forecast_out:]\n",
    "\n",
    "y = np.array(dfreg['label'])\n",
    "\n",
    "y = y[:-forecast_out]"
   ]
  },
  {
   "cell_type": "code",
   "execution_count": 434,
   "metadata": {},
   "outputs": [],
   "source": [
    "X_train, X_test, y_train, y_test = train_test_split(X, y, test_size=0.3, random_state=42)"
   ]
  },
  {
   "cell_type": "code",
   "execution_count": 435,
   "metadata": {},
   "outputs": [
    {
     "data": {
      "text/plain": [
       "MLPRegressor(hidden_layer_sizes=(150, 100, 50), max_iter=250)"
      ]
     },
     "execution_count": 435,
     "metadata": {},
     "output_type": "execute_result"
    }
   ],
   "source": [
    "clfmlp=MLPRegressor(hidden_layer_sizes=(150,100,50), max_iter=250)\n",
    "clfmlp.fit(X_train, y_train)"
   ]
  },
  {
   "cell_type": "code",
   "execution_count": 436,
   "metadata": {},
   "outputs": [
    {
     "name": "stdout",
     "output_type": "stream",
     "text": [
      "0.9056292158539584\n"
     ]
    }
   ],
   "source": [
    "print(clfmlp.score(X_test, y_test))"
   ]
  },
  {
   "cell_type": "code",
   "execution_count": 437,
   "metadata": {},
   "outputs": [
    {
     "name": "stdout",
     "output_type": "stream",
     "text": [
      "RMSE value for max_iter=  200 is: 178.08164328111116\n",
      "RMSE value for max_iter=  225 is: 168.99428430176144\n",
      "RMSE value for max_iter=  250 is: 153.4374581090511\n",
      "RMSE value for max_iter=  275 is: 157.53810143497626\n",
      "RMSE value for max_iter=  300 is: 151.0330875805609\n",
      "RMSE value for max_iter=  325 is: 147.84171155340618\n",
      "RMSE value for max_iter=  350 is: 149.57998016934062\n",
      "RMSE value for max_iter=  375 is: 140.9973897071587\n",
      "RMSE value for max_iter=  400 is: 125.67615495718742\n"
     ]
    }
   ],
   "source": [
    "Rmse=[]\n",
    "for n in range(200,401,25):\n",
    "    clf = MLPRegressor(hidden_layer_sizes=(150,100,50), max_iter=n)\n",
    "    model = clf.fit(X_train, y_train)\n",
    "    y_pred = model.predict(X_test)\n",
    "    error=np.sqrt(metrics.mean_squared_error(y_test, y_pred))\n",
    "    Rmse.append(error)\n",
    "    print('RMSE value for max_iter= ' , n , 'is:', error)"
   ]
  },
  {
   "cell_type": "code",
   "execution_count": 438,
   "metadata": {},
   "outputs": [
    {
     "data": {
      "text/plain": [
       "Text(0, 0.5, 'RMSE')"
      ]
     },
     "execution_count": 438,
     "metadata": {},
     "output_type": "execute_result"
    },
    {
     "data": {
      "image/png": "[encoded data removed]",
      "text/plain": [
       "<Figure size 576x288 with 1 Axes>"
      ]
     },
     "metadata": {
      "needs_background": "light"
     },
     "output_type": "display_data"
    }
   ],
   "source": [
    "plt.figure(figsize=(8, 4))\n",
    "plt.plot(range(200, 401,25), Rmse, 'x-')\n",
    "plt.grid(b=True, which='minor', color='w', linestyle='-')\n",
    "plt.xlabel('Max_Iter')\n",
    "plt.ylabel('RMSE')"
   ]
  },
  {
   "cell_type": "code",
   "execution_count": 439,
   "metadata": {},
   "outputs": [],
   "source": [
    "def get_mape(y_true, y_pred): \n",
    "    \n",
    "    y_true, y_pred = np.array(y_true), np.array(y_pred)\n",
    "    return np.mean(np.abs((y_true - y_pred) / y_true)) * 100"
   ]
  },
  {
   "cell_type": "code",
   "execution_count": 440,
   "metadata": {},
   "outputs": [
    {
     "name": "stdout",
     "output_type": "stream",
     "text": [
      "[17.122976860107045, 16.147541618090685, 16.32596641834913, 15.235711287689869, 14.579969244854782, 13.483503842192054, 13.18565956500429, 12.798283353283699, 12.76052352203297]\n"
     ]
    }
   ],
   "source": [
    "mape=[]\n",
    "for n in range(200,401,25): \n",
    "    clf = MLPRegressor(hidden_layer_sizes=(150,100,50), max_iter=n)\n",
    "    model = clf.fit(X_train, y_train)\n",
    "    y_pred = model.predict(X_test)\n",
    "    error=get_mape(y_test,y_pred)\n",
    "    mape.append(error)\n",
    "print(mape)"
   ]
  },
  {
   "cell_type": "code",
   "execution_count": 441,
   "metadata": {},
   "outputs": [
    {
     "data": {
      "text/plain": [
       "Text(0, 0.5, 'MAPE')"
      ]
     },
     "execution_count": 441,
     "metadata": {},
     "output_type": "execute_result"
    },
    {
     "data": {
      "image/png": "[encoded data removed]",
      "text/plain": [
       "<Figure size 576x288 with 1 Axes>"
      ]
     },
     "metadata": {
      "needs_background": "light"
     },
     "output_type": "display_data"
    }
   ],
   "source": [
    "plt.figure(figsize=(8,4))\n",
    "plt.plot(range(200,401,25), mape, 'x-')\n",
    "plt.grid(b=True, which='minor', color='w', linestyle='-')\n",
    "plt.xlabel('Max_Iter')\n",
    "plt.ylabel('MAPE')"
   ]
  },
  {
   "cell_type": "code",
   "execution_count": 442,
   "metadata": {},
   "outputs": [
    {
     "name": "stdout",
     "output_type": "stream",
     "text": [
      "[0.8736274635620213, 0.8811961161800086, 0.8965012993431167, 0.8934561156143239, 0.89374933162737, 0.8998216942006133, 0.9124312938356439, 0.9212431539233373, 0.9231389686648881]\n"
     ]
    }
   ],
   "source": [
    "R2=[]\n",
    "for n in range(200,401,25): \n",
    "    clf = MLPRegressor(hidden_layer_sizes=(150,100,50), max_iter=n)\n",
    "    model = clf.fit(X_train, y_train)\n",
    "    y_pred = model.predict(X_test)\n",
    "    error = r2_score(y_test,y_pred)\n",
    "    R2.append(error) \n",
    "print(R2)"
   ]
  },
  {
   "cell_type": "code",
   "execution_count": 443,
   "metadata": {},
   "outputs": [
    {
     "data": {
      "text/plain": [
       "Text(0, 0.5, 'R2')"
      ]
     },
     "execution_count": 443,
     "metadata": {},
     "output_type": "execute_result"
    },
    {
     "data": {
      "image/png": "[encoded data removed]",
      "text/plain": [
       "<Figure size 576x288 with 1 Axes>"
      ]
     },
     "metadata": {
      "needs_background": "light"
     },
     "output_type": "display_data"
    }
   ],
   "source": [
    "plt.figure(figsize=(8, 4))\n",
    "plt.plot(range(200, 401,25), R2, 'x-')\n",
    "plt.grid(b=True, which='minor', color='w', linestyle='-')\n",
    "plt.xlabel('Max_Iter')\n",
    "plt.ylabel('R2')"
   ]
  },
  {
   "cell_type": "code",
   "execution_count": 444,
   "metadata": {},
   "outputs": [
    {
     "data": {
      "image/png": "[encoded data removed]",
      "text/plain": [
       "<Figure size 432x288 with 1 Axes>"
      ]
     },
     "metadata": {
      "needs_background": "light"
     },
     "output_type": "display_data"
    }
   ],
   "source": [
    "plt.scatter(y_test,y_pred)\n",
    "plt.xlabel(\"Real\")\n",
    "plt.ylabel(\"Predicted\")\n",
    "plt.title(\"Neural Network\")\n",
    "plt.show()"
   ]
  }
 ],
 "metadata": {
  "kernelspec": {
   "display_name": "Python 3",
   "language": "python",
   "name": "python3"
  },
  "language_info": {
   "codemirror_mode": {
    "name": "ipython",
    "version": 3
   },
   "file_extension": ".py",
   "mimetype": "text/x-python",
   "name": "python",
   "nbconvert_exporter": "python",
   "pygments_lexer": "ipython3",
   "version": "3.8.5"
  }
 },
 "nbformat": 4,
 "nbformat_minor": 4
}
