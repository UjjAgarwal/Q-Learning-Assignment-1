{
 "cells": [
  {
   "cell_type": "code",
   "execution_count": 456,
   "metadata": {},
   "outputs": [],
   "source": [
    "import math\n",
    "import matplotlib\n",
    "import numpy as np\n",
    "import pandas as pd\n",
    "import time\n",
    "from sklearn import metrics\n",
    "from sklearn.metrics import r2_score\n",
    "from datetime import date, datetime, time\n",
    "from matplotlib import pyplot as plt\n",
    "\n",
    "np.warnings.filterwarnings('ignore')\n",
    "\n",
    "%matplotlib inline"
   ]
  },
  {
   "cell_type": "code",
   "execution_count": null,
   "metadata": {},
   "outputs": [],
   "source": [
    "#When making scatter plot for prediction and test we want the points to be close to the 45 degree line \n",
    "#or y=x line as it indicated a more accurate prediction."
   ]
  },
  {
   "cell_type": "code",
   "execution_count": null,
   "metadata": {},
   "outputs": [],
   "source": [
    "#Took daily instead of monthly for this firm by mistake.Other 2 are mothly."
   ]
  },
  {
   "cell_type": "markdown",
   "metadata": {},
   "source": [
    "## 1)Linear Regression"
   ]
  },
  {
   "cell_type": "code",
   "execution_count": 457,
   "metadata": {},
   "outputs": [],
   "source": [
    "df = pd.read_csv(r'C:\\Users\\vkumar\\Downloads\\VTI.csv')"
   ]
  },
  {
   "cell_type": "code",
   "execution_count": 458,
   "metadata": {},
   "outputs": [
    {
     "data": {
      "text/html": [
       "<div>\n",
       "<style scoped>\n",
       "    .dataframe tbody tr th:only-of-type {\n",
       "        vertical-align: middle;\n",
       "    }\n",
       "\n",
       "    .dataframe tbody tr th {\n",
       "        vertical-align: top;\n",
       "    }\n",
       "\n",
       "    .dataframe thead th {\n",
       "        text-align: right;\n",
       "    }\n",
       "</style>\n",
       "<table border=\"1\" class=\"dataframe\">\n",
       "  <thead>\n",
       "    <tr style=\"text-align: right;\">\n",
       "      <th></th>\n",
       "      <th>Date</th>\n",
       "      <th>Open</th>\n",
       "      <th>High</th>\n",
       "      <th>Low</th>\n",
       "      <th>Close</th>\n",
       "      <th>Adj_Close</th>\n",
       "      <th>Volume</th>\n",
       "    </tr>\n",
       "  </thead>\n",
       "  <tbody>\n",
       "    <tr>\n",
       "      <th>0</th>\n",
       "      <td>2011-06-06</td>\n",
       "      <td>67.360001</td>\n",
       "      <td>67.500000</td>\n",
       "      <td>66.660004</td>\n",
       "      <td>66.750000</td>\n",
       "      <td>55.114952</td>\n",
       "      <td>1893100</td>\n",
       "    </tr>\n",
       "    <tr>\n",
       "      <th>1</th>\n",
       "      <td>2011-06-07</td>\n",
       "      <td>67.040001</td>\n",
       "      <td>67.290001</td>\n",
       "      <td>66.699997</td>\n",
       "      <td>66.720001</td>\n",
       "      <td>55.090179</td>\n",
       "      <td>1369600</td>\n",
       "    </tr>\n",
       "    <tr>\n",
       "      <th>2</th>\n",
       "      <td>2011-06-08</td>\n",
       "      <td>66.610001</td>\n",
       "      <td>66.800003</td>\n",
       "      <td>66.269997</td>\n",
       "      <td>66.370003</td>\n",
       "      <td>54.801189</td>\n",
       "      <td>1482500</td>\n",
       "    </tr>\n",
       "    <tr>\n",
       "      <th>3</th>\n",
       "      <td>2011-06-09</td>\n",
       "      <td>66.559998</td>\n",
       "      <td>67.139999</td>\n",
       "      <td>66.379997</td>\n",
       "      <td>66.839996</td>\n",
       "      <td>55.189266</td>\n",
       "      <td>1047900</td>\n",
       "    </tr>\n",
       "    <tr>\n",
       "      <th>4</th>\n",
       "      <td>2011-06-10</td>\n",
       "      <td>66.580002</td>\n",
       "      <td>66.599998</td>\n",
       "      <td>65.730003</td>\n",
       "      <td>65.889999</td>\n",
       "      <td>54.404842</td>\n",
       "      <td>1743300</td>\n",
       "    </tr>\n",
       "    <tr>\n",
       "      <th>5</th>\n",
       "      <td>2011-06-13</td>\n",
       "      <td>66.010002</td>\n",
       "      <td>66.250000</td>\n",
       "      <td>65.550003</td>\n",
       "      <td>65.879997</td>\n",
       "      <td>54.396603</td>\n",
       "      <td>2814600</td>\n",
       "    </tr>\n",
       "    <tr>\n",
       "      <th>6</th>\n",
       "      <td>2011-06-14</td>\n",
       "      <td>66.510002</td>\n",
       "      <td>67.019997</td>\n",
       "      <td>66.480003</td>\n",
       "      <td>66.790001</td>\n",
       "      <td>55.147980</td>\n",
       "      <td>1577100</td>\n",
       "    </tr>\n",
       "    <tr>\n",
       "      <th>7</th>\n",
       "      <td>2011-06-15</td>\n",
       "      <td>66.250000</td>\n",
       "      <td>66.480003</td>\n",
       "      <td>65.430000</td>\n",
       "      <td>65.599998</td>\n",
       "      <td>54.165405</td>\n",
       "      <td>3630600</td>\n",
       "    </tr>\n",
       "    <tr>\n",
       "      <th>8</th>\n",
       "      <td>2011-06-16</td>\n",
       "      <td>65.620003</td>\n",
       "      <td>66.080002</td>\n",
       "      <td>65.180000</td>\n",
       "      <td>65.709999</td>\n",
       "      <td>54.256241</td>\n",
       "      <td>3040000</td>\n",
       "    </tr>\n",
       "    <tr>\n",
       "      <th>9</th>\n",
       "      <td>2011-06-17</td>\n",
       "      <td>66.360001</td>\n",
       "      <td>66.379997</td>\n",
       "      <td>65.690002</td>\n",
       "      <td>65.919998</td>\n",
       "      <td>54.429638</td>\n",
       "      <td>5544400</td>\n",
       "    </tr>\n",
       "  </tbody>\n",
       "</table>\n",
       "</div>"
      ],
      "text/plain": [
       "        Date       Open       High        Low      Close  Adj_Close   Volume\n",
       "0 2011-06-06  67.360001  67.500000  66.660004  66.750000  55.114952  1893100\n",
       "1 2011-06-07  67.040001  67.290001  66.699997  66.720001  55.090179  1369600\n",
       "2 2011-06-08  66.610001  66.800003  66.269997  66.370003  54.801189  1482500\n",
       "3 2011-06-09  66.559998  67.139999  66.379997  66.839996  55.189266  1047900\n",
       "4 2011-06-10  66.580002  66.599998  65.730003  65.889999  54.404842  1743300\n",
       "5 2011-06-13  66.010002  66.250000  65.550003  65.879997  54.396603  2814600\n",
       "6 2011-06-14  66.510002  67.019997  66.480003  66.790001  55.147980  1577100\n",
       "7 2011-06-15  66.250000  66.480003  65.430000  65.599998  54.165405  3630600\n",
       "8 2011-06-16  65.620003  66.080002  65.180000  65.709999  54.256241  3040000\n",
       "9 2011-06-17  66.360001  66.379997  65.690002  65.919998  54.429638  5544400"
      ]
     },
     "execution_count": 458,
     "metadata": {},
     "output_type": "execute_result"
    }
   ],
   "source": [
    "df.loc[:, 'Date'] = pd.to_datetime(df['Date'],format='%Y-%m-%d')\n",
    "\n",
    "df.columns = [str(x).replace(' ', '_') for x in df.columns]\n",
    "\n",
    "df.sort_values(by='Date', inplace=True, ascending=True)\n",
    "\n",
    "df.head(10)"
   ]
  },
  {
   "cell_type": "code",
   "execution_count": 459,
   "metadata": {},
   "outputs": [],
   "source": [
    "from sklearn.linear_model import LinearRegression\n",
    "from sklearn import preprocessing\n",
    "from sklearn.model_selection import train_test_split\n",
    "from sklearn import neighbors\n",
    "from math import sqrt"
   ]
  },
  {
   "cell_type": "code",
   "execution_count": 460,
   "metadata": {},
   "outputs": [],
   "source": [
    "dfreg = df.loc[:,['Open','Close','Adj_Close','Volume']]"
   ]
  },
  {
   "cell_type": "code",
   "execution_count": 461,
   "metadata": {},
   "outputs": [],
   "source": [
    "dfreg.fillna(value=-99999, inplace=True)\n",
    "\n",
    "forecast_out = int(math.ceil(0.01 * len(dfreg)))\n",
    "\n",
    "dfreg['label'] = dfreg['Adj_Close'].shift(-forecast_out)\n",
    "\n",
    "X = np.array(dfreg.drop(['label'], 1))\n",
    "\n",
    "X = preprocessing.scale(X)\n",
    "\n",
    "X = X[:-forecast_out]\n",
    "\n",
    "y = np.array(dfreg['label'])\n",
    "\n",
    "y = y[:-forecast_out]"
   ]
  },
  {
   "cell_type": "code",
   "execution_count": 462,
   "metadata": {},
   "outputs": [],
   "source": [
    "X_train, X_test, y_train, y_test = train_test_split(X, y, test_size=0.3, random_state=42)"
   ]
  },
  {
   "cell_type": "code",
   "execution_count": 463,
   "metadata": {},
   "outputs": [
    {
     "data": {
      "text/plain": [
       "LinearRegression(n_jobs=-1)"
      ]
     },
     "execution_count": 463,
     "metadata": {},
     "output_type": "execute_result"
    }
   ],
   "source": [
    "clfreg = LinearRegression(n_jobs=-1)\n",
    "clfreg.fit(X_train, y_train)"
   ]
  },
  {
   "cell_type": "code",
   "execution_count": 464,
   "metadata": {},
   "outputs": [
    {
     "name": "stdout",
     "output_type": "stream",
     "text": [
      "0.9753351343229565\n"
     ]
    }
   ],
   "source": [
    "print(clfreg.score(X_test, y_test))"
   ]
  },
  {
   "cell_type": "code",
   "execution_count": 465,
   "metadata": {},
   "outputs": [],
   "source": [
    "ypred=clfreg.predict(X_test)"
   ]
  },
  {
   "cell_type": "code",
   "execution_count": 466,
   "metadata": {},
   "outputs": [
    {
     "name": "stdout",
     "output_type": "stream",
     "text": [
      "MAE = 3.3265168011292756\n",
      "MSE = 34.09477584182201\n",
      "RMSE = 5.8390732005877455\n"
     ]
    }
   ],
   "source": [
    "print('MAE =',metrics.mean_absolute_error(y_test,ypred))\n",
    "print('MSE =',metrics.mean_squared_error(y_test,ypred))\n",
    "print('RMSE =',np.sqrt(metrics.mean_squared_error(y_test,ypred)))\n"
   ]
  },
  {
   "cell_type": "code",
   "execution_count": 467,
   "metadata": {},
   "outputs": [
    {
     "data": {
      "image/png": "[encoded data removed]",
      "text/plain": [
       "<Figure size 432x288 with 1 Axes>"
      ]
     },
     "metadata": {
      "needs_background": "light"
     },
     "output_type": "display_data"
    }
   ],
   "source": [
    "plt.scatter(y_test,ypred)\n",
    "plt.xlabel(\"Real\")\n",
    "plt.ylabel(\"Predicted\")\n",
    "plt.title(\"Linear regression\")\n",
    "plt.show()"
   ]
  },
  {
   "cell_type": "markdown",
   "metadata": {},
   "source": [
    "## 2)KNN"
   ]
  },
  {
   "cell_type": "code",
   "execution_count": 468,
   "metadata": {},
   "outputs": [],
   "source": [
    "df = pd.read_csv(r'C:\\Users\\vkumar\\Downloads\\VTI.csv')"
   ]
  },
  {
   "cell_type": "code",
   "execution_count": 469,
   "metadata": {},
   "outputs": [
    {
     "data": {
      "text/html": [
       "<div>\n",
       "<style scoped>\n",
       "    .dataframe tbody tr th:only-of-type {\n",
       "        vertical-align: middle;\n",
       "    }\n",
       "\n",
       "    .dataframe tbody tr th {\n",
       "        vertical-align: top;\n",
       "    }\n",
       "\n",
       "    .dataframe thead th {\n",
       "        text-align: right;\n",
       "    }\n",
       "</style>\n",
       "<table border=\"1\" class=\"dataframe\">\n",
       "  <thead>\n",
       "    <tr style=\"text-align: right;\">\n",
       "      <th></th>\n",
       "      <th>Date</th>\n",
       "      <th>Open</th>\n",
       "      <th>High</th>\n",
       "      <th>Low</th>\n",
       "      <th>Close</th>\n",
       "      <th>Adj_Close</th>\n",
       "      <th>Volume</th>\n",
       "    </tr>\n",
       "  </thead>\n",
       "  <tbody>\n",
       "    <tr>\n",
       "      <th>0</th>\n",
       "      <td>2011-06-06</td>\n",
       "      <td>67.360001</td>\n",
       "      <td>67.500000</td>\n",
       "      <td>66.660004</td>\n",
       "      <td>66.750000</td>\n",
       "      <td>55.114952</td>\n",
       "      <td>1893100</td>\n",
       "    </tr>\n",
       "    <tr>\n",
       "      <th>1</th>\n",
       "      <td>2011-06-07</td>\n",
       "      <td>67.040001</td>\n",
       "      <td>67.290001</td>\n",
       "      <td>66.699997</td>\n",
       "      <td>66.720001</td>\n",
       "      <td>55.090179</td>\n",
       "      <td>1369600</td>\n",
       "    </tr>\n",
       "    <tr>\n",
       "      <th>2</th>\n",
       "      <td>2011-06-08</td>\n",
       "      <td>66.610001</td>\n",
       "      <td>66.800003</td>\n",
       "      <td>66.269997</td>\n",
       "      <td>66.370003</td>\n",
       "      <td>54.801189</td>\n",
       "      <td>1482500</td>\n",
       "    </tr>\n",
       "    <tr>\n",
       "      <th>3</th>\n",
       "      <td>2011-06-09</td>\n",
       "      <td>66.559998</td>\n",
       "      <td>67.139999</td>\n",
       "      <td>66.379997</td>\n",
       "      <td>66.839996</td>\n",
       "      <td>55.189266</td>\n",
       "      <td>1047900</td>\n",
       "    </tr>\n",
       "    <tr>\n",
       "      <th>4</th>\n",
       "      <td>2011-06-10</td>\n",
       "      <td>66.580002</td>\n",
       "      <td>66.599998</td>\n",
       "      <td>65.730003</td>\n",
       "      <td>65.889999</td>\n",
       "      <td>54.404842</td>\n",
       "      <td>1743300</td>\n",
       "    </tr>\n",
       "    <tr>\n",
       "      <th>5</th>\n",
       "      <td>2011-06-13</td>\n",
       "      <td>66.010002</td>\n",
       "      <td>66.250000</td>\n",
       "      <td>65.550003</td>\n",
       "      <td>65.879997</td>\n",
       "      <td>54.396603</td>\n",
       "      <td>2814600</td>\n",
       "    </tr>\n",
       "    <tr>\n",
       "      <th>6</th>\n",
       "      <td>2011-06-14</td>\n",
       "      <td>66.510002</td>\n",
       "      <td>67.019997</td>\n",
       "      <td>66.480003</td>\n",
       "      <td>66.790001</td>\n",
       "      <td>55.147980</td>\n",
       "      <td>1577100</td>\n",
       "    </tr>\n",
       "    <tr>\n",
       "      <th>7</th>\n",
       "      <td>2011-06-15</td>\n",
       "      <td>66.250000</td>\n",
       "      <td>66.480003</td>\n",
       "      <td>65.430000</td>\n",
       "      <td>65.599998</td>\n",
       "      <td>54.165405</td>\n",
       "      <td>3630600</td>\n",
       "    </tr>\n",
       "    <tr>\n",
       "      <th>8</th>\n",
       "      <td>2011-06-16</td>\n",
       "      <td>65.620003</td>\n",
       "      <td>66.080002</td>\n",
       "      <td>65.180000</td>\n",
       "      <td>65.709999</td>\n",
       "      <td>54.256241</td>\n",
       "      <td>3040000</td>\n",
       "    </tr>\n",
       "    <tr>\n",
       "      <th>9</th>\n",
       "      <td>2011-06-17</td>\n",
       "      <td>66.360001</td>\n",
       "      <td>66.379997</td>\n",
       "      <td>65.690002</td>\n",
       "      <td>65.919998</td>\n",
       "      <td>54.429638</td>\n",
       "      <td>5544400</td>\n",
       "    </tr>\n",
       "  </tbody>\n",
       "</table>\n",
       "</div>"
      ],
      "text/plain": [
       "        Date       Open       High        Low      Close  Adj_Close   Volume\n",
       "0 2011-06-06  67.360001  67.500000  66.660004  66.750000  55.114952  1893100\n",
       "1 2011-06-07  67.040001  67.290001  66.699997  66.720001  55.090179  1369600\n",
       "2 2011-06-08  66.610001  66.800003  66.269997  66.370003  54.801189  1482500\n",
       "3 2011-06-09  66.559998  67.139999  66.379997  66.839996  55.189266  1047900\n",
       "4 2011-06-10  66.580002  66.599998  65.730003  65.889999  54.404842  1743300\n",
       "5 2011-06-13  66.010002  66.250000  65.550003  65.879997  54.396603  2814600\n",
       "6 2011-06-14  66.510002  67.019997  66.480003  66.790001  55.147980  1577100\n",
       "7 2011-06-15  66.250000  66.480003  65.430000  65.599998  54.165405  3630600\n",
       "8 2011-06-16  65.620003  66.080002  65.180000  65.709999  54.256241  3040000\n",
       "9 2011-06-17  66.360001  66.379997  65.690002  65.919998  54.429638  5544400"
      ]
     },
     "execution_count": 469,
     "metadata": {},
     "output_type": "execute_result"
    }
   ],
   "source": [
    "df.loc[:, 'Date'] = pd.to_datetime(df['Date'],format='%Y-%m-%d')\n",
    "\n",
    "df.columns = [str(x).replace(' ', '_') for x in df.columns]\n",
    "\n",
    "df.sort_values(by='Date', inplace=True, ascending=True)\n",
    "\n",
    "df.head(10)"
   ]
  },
  {
   "cell_type": "code",
   "execution_count": 470,
   "metadata": {},
   "outputs": [],
   "source": [
    "from sklearn.neighbors import KNeighborsRegressor\n",
    "from sklearn import preprocessing\n",
    "from sklearn.model_selection import train_test_split\n",
    "from sklearn import neighbors\n",
    "from math import sqrt"
   ]
  },
  {
   "cell_type": "code",
   "execution_count": 471,
   "metadata": {},
   "outputs": [],
   "source": [
    "dfreg = df.loc[:,['Open','Close','Adj_Close','Volume']]"
   ]
  },
  {
   "cell_type": "code",
   "execution_count": 472,
   "metadata": {},
   "outputs": [],
   "source": [
    "dfreg.fillna(value=-99999, inplace=True)\n",
    "\n",
    "forecast_out = int(math.ceil(0.02 * len(dfreg)))\n",
    "\n",
    "dfreg['label'] = dfreg['Adj_Close'].shift(-forecast_out)\n",
    "\n",
    "X = np.array(dfreg.drop(['label'], 1))\n",
    "\n",
    "X = preprocessing.scale(X)\n",
    "\n",
    "X = X[:-forecast_out]\n",
    "X_lately = X[-forecast_out:]\n",
    "\n",
    "y = np.array(dfreg['label'])\n",
    "\n",
    "y = y[:-forecast_out]"
   ]
  },
  {
   "cell_type": "code",
   "execution_count": 473,
   "metadata": {},
   "outputs": [],
   "source": [
    "X_train, X_test, y_train, y_test = train_test_split(X, y, test_size=0.3, random_state=42)"
   ]
  },
  {
   "cell_type": "code",
   "execution_count": 474,
   "metadata": {},
   "outputs": [
    {
     "data": {
      "text/plain": [
       "KNeighborsRegressor(n_neighbors=6)"
      ]
     },
     "execution_count": 474,
     "metadata": {},
     "output_type": "execute_result"
    }
   ],
   "source": [
    "clfknn = KNeighborsRegressor(n_neighbors=6)\n",
    "clfknn.fit(X_train, y_train)"
   ]
  },
  {
   "cell_type": "code",
   "execution_count": 475,
   "metadata": {},
   "outputs": [
    {
     "name": "stdout",
     "output_type": "stream",
     "text": [
      "0.9622980187762636\n"
     ]
    }
   ],
   "source": [
    "print(clfknn.score(X_test, y_test))"
   ]
  },
  {
   "cell_type": "code",
   "execution_count": 476,
   "metadata": {},
   "outputs": [
    {
     "name": "stdout",
     "output_type": "stream",
     "text": [
      "RMSE value for k=  1 is: 8.882186097713356\n",
      "RMSE value for k=  2 is: 8.438479589610646\n",
      "RMSE value for k=  3 is: 8.122218664638224\n",
      "RMSE value for k=  4 is: 7.705584116590732\n",
      "RMSE value for k=  5 is: 7.681900629429339\n",
      "RMSE value for k=  6 is: 7.417451956377935\n",
      "RMSE value for k=  7 is: 7.378379806245568\n",
      "RMSE value for k=  8 is: 7.420766672424821\n",
      "RMSE value for k=  9 is: 7.471068915278984\n",
      "RMSE value for k=  10 is: 7.52179968362091\n",
      "RMSE value for k=  11 is: 7.413980651274299\n",
      "RMSE value for k=  12 is: 7.470615818961221\n",
      "RMSE value for k=  13 is: 7.4440090468947036\n",
      "RMSE value for k=  14 is: 7.420056830008387\n",
      "RMSE value for k=  15 is: 7.550184996959307\n"
     ]
    }
   ],
   "source": [
    "rmse_val = [] \n",
    "for K in range(15):\n",
    "    K = K+1\n",
    "    model = neighbors.KNeighborsRegressor(n_neighbors = K)\n",
    "\n",
    "    model.fit(X_train, y_train)  \n",
    "    pred=model.predict(X_test)\n",
    "    error = np.sqrt(metrics.mean_squared_error(y_test,pred)) \n",
    "    rmse_val.append(error) \n",
    "    print('RMSE value for k= ' , K , 'is:', error)"
   ]
  },
  {
   "cell_type": "code",
   "execution_count": 477,
   "metadata": {},
   "outputs": [
    {
     "data": {
      "text/plain": [
       "Text(0, 0.5, 'RMSE')"
      ]
     },
     "execution_count": 477,
     "metadata": {},
     "output_type": "execute_result"
    },
    {
     "data": {
      "image/png": "[encoded data removed]",
      "text/plain": [
       "<Figure size 432x288 with 1 Axes>"
      ]
     },
     "metadata": {
      "needs_background": "light"
     },
     "output_type": "display_data"
    }
   ],
   "source": [
    "plt.figure(figsize=(6, 4))\n",
    "plt.plot(range(1, K+1), rmse_val, 'x-')\n",
    "plt.grid(b=True, which='minor', color='w', linestyle='-')\n",
    "plt.xlabel('K')\n",
    "plt.ylabel('RMSE')"
   ]
  },
  {
   "cell_type": "code",
   "execution_count": 478,
   "metadata": {},
   "outputs": [],
   "source": [
    "def get_mape(y_true, y_pred): \n",
    "    \n",
    "    y_true, y_pred = np.array(y_true), np.array(y_pred)\n",
    "    return np.mean(np.abs((y_true - y_pred) / y_true)) * 100"
   ]
  },
  {
   "cell_type": "code",
   "execution_count": 479,
   "metadata": {},
   "outputs": [],
   "source": [
    "mape=[]\n",
    "for K in range(15):\n",
    "    K = K+1\n",
    "    model = neighbors.KNeighborsRegressor(n_neighbors = K)\n",
    "\n",
    "    model.fit(X_train, y_train)  \n",
    "    pred=model.predict(X_test)\n",
    "    error = get_mape(y_test,pred)\n",
    "    mape.append(error) "
   ]
  },
  {
   "cell_type": "code",
   "execution_count": 480,
   "metadata": {
    "scrolled": true
   },
   "outputs": [
    {
     "data": {
      "text/plain": [
       "Text(0, 0.5, 'MAPE')"
      ]
     },
     "execution_count": 480,
     "metadata": {},
     "output_type": "execute_result"
    },
    {
     "data": {
      "image/png": "[encoded data removed]",
      "text/plain": [
       "<Figure size 432x288 with 1 Axes>"
      ]
     },
     "metadata": {
      "needs_background": "light"
     },
     "output_type": "display_data"
    }
   ],
   "source": [
    "plt.figure(figsize=(6,4))\n",
    "plt.plot(range(1, K+1), mape, 'x-')\n",
    "plt.grid(b=True, which='minor', color='w', linestyle='-')\n",
    "\n",
    "plt.xlabel('K')\n",
    "plt.ylabel('MAPE')\n"
   ]
  },
  {
   "cell_type": "code",
   "execution_count": 481,
   "metadata": {},
   "outputs": [
    {
     "name": "stdout",
     "output_type": "stream",
     "text": [
      "[0.945937711583921, 0.9512041264359964, 0.9547931711554868, 0.9593120489684263, 0.9595617773901959, 0.9622980187762636, 0.9626941703488384, 0.9622643146723365, 0.96175099220729, 0.96122978445883, 0.962333298938883, 0.9617556314253901, 0.9620275627337932, 0.962271533632344, 0.9609366149324335]\n"
     ]
    }
   ],
   "source": [
    "R2=[]\n",
    "for K in range(15):\n",
    "    K = K+1\n",
    "    model = neighbors.KNeighborsRegressor(n_neighbors = K)\n",
    "    model.fit(X_train, y_train)  \n",
    "    pred=model.predict(X_test)\n",
    "    error = r2_score(y_test,pred)\n",
    "    R2.append(error) \n",
    "print(R2)"
   ]
  },
  {
   "cell_type": "code",
   "execution_count": 482,
   "metadata": {},
   "outputs": [
    {
     "data": {
      "text/plain": [
       "Text(0, 0.5, 'R2')"
      ]
     },
     "execution_count": 482,
     "metadata": {},
     "output_type": "execute_result"
    },
    {
     "data": {
      "image/png": "[encoded data removed]",
      "text/plain": [
       "<Figure size 576x288 with 1 Axes>"
      ]
     },
     "metadata": {
      "needs_background": "light"
     },
     "output_type": "display_data"
    }
   ],
   "source": [
    "plt.figure(figsize=(8, 4))\n",
    "plt.plot(range(1,K+1), R2, 'x-')\n",
    "plt.grid(b=True, which='minor', color='w', linestyle='-')\n",
    "plt.xlabel('K')\n",
    "plt.ylabel('R2')"
   ]
  },
  {
   "cell_type": "code",
   "execution_count": 483,
   "metadata": {},
   "outputs": [
    {
     "data": {
      "image/png": "[encoded data removed]",
      "text/plain": [
       "<Figure size 432x288 with 1 Axes>"
      ]
     },
     "metadata": {
      "needs_background": "light"
     },
     "output_type": "display_data"
    }
   ],
   "source": [
    "plt.scatter(y_test,pred)\n",
    "plt.xlabel(\"Real\")\n",
    "plt.ylabel(\"Predicted\")\n",
    "plt.title(\"KNN\")\n",
    "plt.show()"
   ]
  },
  {
   "cell_type": "markdown",
   "metadata": {},
   "source": [
    "## 3)Random Forest"
   ]
  },
  {
   "cell_type": "code",
   "execution_count": 484,
   "metadata": {},
   "outputs": [],
   "source": [
    "from sklearn.ensemble import RandomForestRegressor\n",
    "from sklearn.model_selection import ParameterGrid\n",
    "from sklearn.ensemble import RandomForestClassifier\n"
   ]
  },
  {
   "cell_type": "code",
   "execution_count": 485,
   "metadata": {},
   "outputs": [],
   "source": [
    "dfreg = df.loc[:,['Open','Close','Adj_Close','Volume']]"
   ]
  },
  {
   "cell_type": "code",
   "execution_count": 486,
   "metadata": {},
   "outputs": [],
   "source": [
    "dfreg.fillna(value=-99999, inplace=True)\n",
    "\n",
    "forecast_out = int(math.ceil(0.02 * len(dfreg)))\n",
    "\n",
    "dfreg['label'] = dfreg['Adj_Close'].shift(-forecast_out)\n",
    "\n",
    "X = np.array(dfreg.drop(['label'], 1))\n",
    "\n",
    "X = preprocessing.scale(X)\n",
    "\n",
    "X = X[:-forecast_out]\n",
    "X_lately = X[-forecast_out:]\n",
    "\n",
    "y = np.array(dfreg['label'])\n",
    "\n",
    "y = y[:-forecast_out]"
   ]
  },
  {
   "cell_type": "code",
   "execution_count": 487,
   "metadata": {},
   "outputs": [],
   "source": [
    "X_train, X_test, y_train, y_test = train_test_split(X, y, test_size=0.3, random_state=42)"
   ]
  },
  {
   "cell_type": "code",
   "execution_count": 488,
   "metadata": {},
   "outputs": [],
   "source": [
    "clf = RandomForestRegressor(n_estimators = 50,random_state=42)"
   ]
  },
  {
   "cell_type": "code",
   "execution_count": 489,
   "metadata": {},
   "outputs": [],
   "source": [
    "model = clf.fit(X_train, y_train)"
   ]
  },
  {
   "cell_type": "code",
   "execution_count": 490,
   "metadata": {},
   "outputs": [
    {
     "name": "stdout",
     "output_type": "stream",
     "text": [
      "0.9823870147914048\n"
     ]
    }
   ],
   "source": [
    "print(model.score(X_test, y_test))"
   ]
  },
  {
   "cell_type": "code",
   "execution_count": 491,
   "metadata": {},
   "outputs": [
    {
     "name": "stdout",
     "output_type": "stream",
     "text": [
      "RMSE value for n_estimators=  10 is: 5.355576428214545\n",
      "RMSE value for n_estimators=  15 is: 5.218891708867372\n",
      "RMSE value for n_estimators=  20 is: 5.1856376882816315\n",
      "RMSE value for n_estimators=  25 is: 5.129749079934298\n",
      "RMSE value for n_estimators=  30 is: 5.084859484314223\n",
      "RMSE value for n_estimators=  35 is: 5.112693941677314\n",
      "RMSE value for n_estimators=  40 is: 5.08155324510807\n",
      "RMSE value for n_estimators=  45 is: 5.092517837244538\n",
      "RMSE value for n_estimators=  50 is: 5.069780315352776\n",
      "RMSE value for n_estimators=  55 is: 5.078890962303417\n",
      "RMSE value for n_estimators=  60 is: 5.087723378013518\n",
      "RMSE value for n_estimators=  65 is: 5.068093197626641\n",
      "RMSE value for n_estimators=  70 is: 5.065206973862719\n",
      "RMSE value for n_estimators=  75 is: 5.057780085092589\n",
      "RMSE value for n_estimators=  80 is: 5.072348501875419\n",
      "RMSE value for n_estimators=  85 is: 5.05741011438554\n",
      "RMSE value for n_estimators=  90 is: 5.05488668536229\n",
      "RMSE value for n_estimators=  95 is: 5.0819069878756835\n"
     ]
    }
   ],
   "source": [
    "Rmse=[]\n",
    "for n in range(10,100,5):\n",
    "    clf = RandomForestRegressor(n_estimators = n,random_state=42)\n",
    "    model = clf.fit(X_train, y_train)\n",
    "    y_pred = model.predict(X_test)\n",
    "    error=np.sqrt(metrics.mean_squared_error(y_test, y_pred))\n",
    "    Rmse.append(error)\n",
    "    print('RMSE value for n_estimators= ' , n , 'is:', error)"
   ]
  },
  {
   "cell_type": "code",
   "execution_count": 492,
   "metadata": {},
   "outputs": [
    {
     "data": {
      "text/plain": [
       "Text(0, 0.5, 'RMSE')"
      ]
     },
     "execution_count": 492,
     "metadata": {},
     "output_type": "execute_result"
    },
    {
     "data": {
      "image/png": "[encoded data removed]",
      "text/plain": [
       "<Figure size 576x288 with 1 Axes>"
      ]
     },
     "metadata": {
      "needs_background": "light"
     },
     "output_type": "display_data"
    }
   ],
   "source": [
    "plt.figure(figsize=(8, 4))\n",
    "plt.plot(range(10, 100,5), Rmse, 'x-')\n",
    "plt.grid(b=True, which='minor', color='w', linestyle='-')\n",
    "plt.xticks([10,20,30,40,50,60,70,80,90,100])\n",
    "plt.xlabel('N_Estimtors')\n",
    "plt.ylabel('RMSE')"
   ]
  },
  {
   "cell_type": "code",
   "execution_count": 493,
   "metadata": {},
   "outputs": [],
   "source": [
    "def get_mape(y_true, y_pred): \n",
    "    \n",
    "    y_true, y_pred = np.array(y_true), np.array(y_pred)\n",
    "    return np.mean(np.abs((y_true - y_pred) / y_true)) * 100"
   ]
  },
  {
   "cell_type": "code",
   "execution_count": 494,
   "metadata": {},
   "outputs": [
    {
     "name": "stdout",
     "output_type": "stream",
     "text": [
      "[2.9359180438888135, 2.8791644850203113, 2.8511639810684084, 2.841795420609349, 2.834975604668485, 2.858327307108888, 2.838650006484949, 2.8342566280852095, 2.8326503117335524, 2.8265251780701584, 2.8235307859566463, 2.812699647853355, 2.8087826790092483, 2.812115767688324, 2.821013379994203, 2.8172976445768767, 2.8107637773351706, 2.817169165258696]\n"
     ]
    }
   ],
   "source": [
    "mape=[]\n",
    "for n in range(10,100,5): \n",
    "    clf = RandomForestRegressor(n_estimators = n,random_state=42)\n",
    "    model = clf.fit(X_train, y_train)\n",
    "    y_pred = model.predict(X_test)\n",
    "    error=get_mape(y_test,y_pred)\n",
    "    mape.append(error)\n",
    "print(mape)"
   ]
  },
  {
   "cell_type": "code",
   "execution_count": 495,
   "metadata": {},
   "outputs": [
    {
     "data": {
      "text/plain": [
       "Text(0, 0.5, 'MAPE')"
      ]
     },
     "execution_count": 495,
     "metadata": {},
     "output_type": "execute_result"
    },
    {
     "data": {
      "image/png": "[encoded data removed]",
      "text/plain": [
       "<Figure size 576x288 with 1 Axes>"
      ]
     },
     "metadata": {
      "needs_background": "light"
     },
     "output_type": "display_data"
    }
   ],
   "source": [
    "plt.figure(figsize=(8,4))\n",
    "plt.plot(range(10,100,5), mape, 'x-')\n",
    "plt.grid(b=True, which='minor', color='w', linestyle='-')\n",
    "plt.xticks([10,20,30,40,50,60,70,80,90,100])\n",
    "plt.xlabel('N_Estimators')\n",
    "plt.ylabel('MAPE')"
   ]
  },
  {
   "cell_type": "code",
   "execution_count": 496,
   "metadata": {},
   "outputs": [
    {
     "name": "stdout",
     "output_type": "stream",
     "text": [
      "[0.9803452677670524, 0.9813357192054991, 0.9815728136029198, 0.9819678740042137, 0.9822820855292045, 0.9820875793346365, 0.9823051188574765, 0.9822286751155533, 0.9823870147914048, 0.9823236550943771, 0.9822621217472013, 0.982398735313167, 0.9824187770610483, 0.9824702964009693, 0.9823691659359051, 0.9824728608618685, 0.9824903470678683, 0.9823026551800159]\n"
     ]
    }
   ],
   "source": [
    "R2=[]\n",
    "for n in range(10,100,5): \n",
    "    clf = RandomForestRegressor(n_estimators = n,random_state=42)\n",
    "    model = clf.fit(X_train, y_train)\n",
    "    y_pred = model.predict(X_test)\n",
    "    error = r2_score(y_test,y_pred)\n",
    "    R2.append(error) \n",
    "print(R2)\n"
   ]
  },
  {
   "cell_type": "code",
   "execution_count": 497,
   "metadata": {},
   "outputs": [
    {
     "data": {
      "text/plain": [
       "Text(0, 0.5, 'R2')"
      ]
     },
     "execution_count": 497,
     "metadata": {},
     "output_type": "execute_result"
    },
    {
     "data": {
      "image/png": "[encoded data removed]",
      "text/plain": [
       "<Figure size 576x288 with 1 Axes>"
      ]
     },
     "metadata": {
      "needs_background": "light"
     },
     "output_type": "display_data"
    }
   ],
   "source": [
    "plt.figure(figsize=(8, 4))\n",
    "plt.plot(range(10, 100,5), R2, 'x-')\n",
    "plt.grid(b=True, which='minor', color='w', linestyle='-')\n",
    "plt.xticks([10,20,30,40,50,60,70,80,90,100])\n",
    "plt.xlabel('N_Estimators')\n",
    "plt.ylabel('R2')"
   ]
  },
  {
   "cell_type": "code",
   "execution_count": 498,
   "metadata": {},
   "outputs": [
    {
     "data": {
      "image/png": "[encoded data removed]",
      "text/plain": [
       "<Figure size 432x288 with 1 Axes>"
      ]
     },
     "metadata": {
      "needs_background": "light"
     },
     "output_type": "display_data"
    }
   ],
   "source": [
    "plt.scatter(y_test,y_pred)\n",
    "plt.xlabel(\"Real\")\n",
    "plt.ylabel(\"Predicted\")\n",
    "plt.title(\"Random Forest\")\n",
    "plt.show()"
   ]
  },
  {
   "cell_type": "markdown",
   "metadata": {},
   "source": [
    "## 4)XGBoost "
   ]
  },
  {
   "cell_type": "code",
   "execution_count": 499,
   "metadata": {},
   "outputs": [],
   "source": [
    "from xgboost import XGBRegressor"
   ]
  },
  {
   "cell_type": "code",
   "execution_count": 500,
   "metadata": {},
   "outputs": [],
   "source": [
    "dfreg = df.loc[:,['Open','Close','Adj_Close','Volume']]"
   ]
  },
  {
   "cell_type": "code",
   "execution_count": 501,
   "metadata": {},
   "outputs": [],
   "source": [
    "dfreg.fillna(value=-99999, inplace=True)\n",
    "\n",
    "forecast_out = int(math.ceil(0.02 * len(dfreg)))\n",
    "\n",
    "dfreg['label'] = dfreg['Adj_Close'].shift(-forecast_out)\n",
    "\n",
    "X = np.array(dfreg.drop(['label'], 1))\n",
    "\n",
    "X = preprocessing.scale(X)\n",
    "\n",
    "X = X[:-forecast_out]\n",
    "X_lately = X[-forecast_out:]\n",
    "\n",
    "y = np.array(dfreg['label'])\n",
    "\n",
    "y = y[:-forecast_out]"
   ]
  },
  {
   "cell_type": "code",
   "execution_count": 502,
   "metadata": {},
   "outputs": [],
   "source": [
    "X_train, X_test, y_train, y_test = train_test_split(X, y, test_size=0.3, random_state=42)"
   ]
  },
  {
   "cell_type": "code",
   "execution_count": 503,
   "metadata": {},
   "outputs": [
    {
     "data": {
      "text/plain": [
       "XGBRegressor(base_score=0.5, booster='gbtree', colsample_bylevel=1,\n",
       "             colsample_bynode=1, colsample_bytree=1, eval_metric='mlogloss',\n",
       "             gamma=0, gpu_id=-1, importance_type='gain',\n",
       "             interaction_constraints='', learning_rate=0.300000012,\n",
       "             max_delta_step=0, max_depth=6, min_child_weight=1, missing=nan,\n",
       "             monotone_constraints='()', n_estimators=15, n_jobs=8,\n",
       "             num_parallel_tree=1, random_state=0, reg_alpha=0, reg_lambda=1,\n",
       "             scale_pos_weight=1, subsample=1, tree_method='exact',\n",
       "             validate_parameters=1, verbosity=None)"
      ]
     },
     "execution_count": 503,
     "metadata": {},
     "output_type": "execute_result"
    }
   ],
   "source": [
    "clfxgb = XGBRegressor(eval_metric = \"mlogloss\",n_estimators=15)\n",
    "clfxgb.fit(X_train, y_train)"
   ]
  },
  {
   "cell_type": "code",
   "execution_count": 504,
   "metadata": {},
   "outputs": [
    {
     "name": "stdout",
     "output_type": "stream",
     "text": [
      "0.97755838721733\n"
     ]
    }
   ],
   "source": [
    "print(clfxgb.score(X_test, y_test))"
   ]
  },
  {
   "cell_type": "code",
   "execution_count": 505,
   "metadata": {},
   "outputs": [
    {
     "name": "stdout",
     "output_type": "stream",
     "text": [
      "RMSE value for n_estimators=  10 is: 6.9626426755147515\n",
      "RMSE value for n_estimators=  15 is: 5.722682979969\n",
      "RMSE value for n_estimators=  20 is: 5.547909941514251\n",
      "RMSE value for n_estimators=  25 is: 5.384061252418326\n",
      "RMSE value for n_estimators=  30 is: 5.363708830129269\n",
      "RMSE value for n_estimators=  35 is: 5.366628034039962\n",
      "RMSE value for n_estimators=  40 is: 5.299385266010063\n",
      "RMSE value for n_estimators=  45 is: 5.314959923757722\n",
      "RMSE value for n_estimators=  50 is: 5.28608204907329\n",
      "RMSE value for n_estimators=  55 is: 5.264374696906874\n",
      "RMSE value for n_estimators=  60 is: 5.243681628849894\n",
      "RMSE value for n_estimators=  65 is: 5.242027759778185\n",
      "RMSE value for n_estimators=  70 is: 5.251365882814421\n",
      "RMSE value for n_estimators=  75 is: 5.2511191520779805\n",
      "RMSE value for n_estimators=  80 is: 5.25958435036536\n",
      "RMSE value for n_estimators=  85 is: 5.263885432657015\n",
      "RMSE value for n_estimators=  90 is: 5.258610029649329\n",
      "RMSE value for n_estimators=  95 is: 5.236890476116313\n"
     ]
    }
   ],
   "source": [
    "Rmse=[]\n",
    "for n in range(10,100,5):\n",
    "    clf = XGBRegressor(n_estimators = n,random_state=42)\n",
    "    model = clf.fit(X_train, y_train)\n",
    "    y_pred = model.predict(X_test)\n",
    "    error=np.sqrt(metrics.mean_squared_error(y_test, y_pred))\n",
    "    Rmse.append(error)\n",
    "    print('RMSE value for n_estimators= ' , n , 'is:', error)"
   ]
  },
  {
   "cell_type": "code",
   "execution_count": 506,
   "metadata": {},
   "outputs": [
    {
     "data": {
      "text/plain": [
       "Text(0, 0.5, 'RMSE')"
      ]
     },
     "execution_count": 506,
     "metadata": {},
     "output_type": "execute_result"
    },
    {
     "data": {
      "image/png": "[encoded data removed]",
      "text/plain": [
       "<Figure size 576x288 with 1 Axes>"
      ]
     },
     "metadata": {
      "needs_background": "light"
     },
     "output_type": "display_data"
    }
   ],
   "source": [
    "plt.figure(figsize=(8, 4))\n",
    "plt.plot(range(10, 100,5), Rmse, 'x-')\n",
    "plt.grid(b=True, which='minor', color='w', linestyle='-')\n",
    "plt.xticks([10,20,30,40,50,60,70,80,90,100])\n",
    "plt.xlabel('N_Estimators')\n",
    "plt.ylabel('RMSE')"
   ]
  },
  {
   "cell_type": "code",
   "execution_count": 507,
   "metadata": {},
   "outputs": [],
   "source": [
    "def get_mape(y_true, y_pred): \n",
    "    \n",
    "    y_true, y_pred = np.array(y_true), np.array(y_pred)\n",
    "    return np.mean(np.abs((y_true - y_pred) / y_true)) * 100"
   ]
  },
  {
   "cell_type": "code",
   "execution_count": 508,
   "metadata": {},
   "outputs": [
    {
     "name": "stdout",
     "output_type": "stream",
     "text": [
      "[4.3971810564479235, 3.269487209314595, 3.1649838944471798, 3.06850105755024, 3.019347352389469, 3.0191355295901645, 2.9613944544977278, 2.9638424103901495, 2.9531924512359367, 2.9307849274334155, 2.921789887211866, 2.924065029045595, 2.9290634134030364, 2.9152784864387495, 2.916302149525527, 2.9146685186505796, 2.9155322023407515, 2.895037096724245]\n"
     ]
    }
   ],
   "source": [
    "mape=[]\n",
    "for n in range(10,100,5): \n",
    "    clf = XGBRegressor(n_estimators = n,random_state=42)\n",
    "    model = clf.fit(X_train, y_train)\n",
    "    y_pred = model.predict(X_test)\n",
    "    error=get_mape(y_test,y_pred)\n",
    "    mape.append(error)\n",
    "print(mape)"
   ]
  },
  {
   "cell_type": "code",
   "execution_count": 509,
   "metadata": {},
   "outputs": [
    {
     "data": {
      "text/plain": [
       "Text(0, 0.5, 'MAPE')"
      ]
     },
     "execution_count": 509,
     "metadata": {},
     "output_type": "execute_result"
    },
    {
     "data": {
      "image/png": "[encoded data removed]",
      "text/plain": [
       "<Figure size 576x288 with 1 Axes>"
      ]
     },
     "metadata": {
      "needs_background": "light"
     },
     "output_type": "display_data"
    }
   ],
   "source": [
    "plt.figure(figsize=(8,4))\n",
    "plt.plot(range(10,100,5), mape, 'x-')\n",
    "plt.grid(b=True, which='minor', color='w', linestyle='-')\n",
    "plt.xticks([10,20,30,40,50,60,70,80,90,100])\n",
    "plt.xlabel('N_Estimators')\n",
    "plt.ylabel('MAPE')"
   ]
  },
  {
   "cell_type": "code",
   "execution_count": 510,
   "metadata": {},
   "outputs": [
    {
     "name": "stdout",
     "output_type": "stream",
     "text": [
      "[0.9667797494165177, 0.97755838721733, 0.9789082073123121, 0.9801356356297307, 0.980285531325145, 0.9802640662468384, 0.9807555423344163, 0.9806422588998002, 0.9808520410199243, 0.9810089807141505, 0.981157986100163, 0.9811698698535734, 0.9811027222920918, 0.981104497993811, 0.9810435269529141, 0.9810125105521897, 0.9810505495510656, 0.9812067595165016]\n"
     ]
    }
   ],
   "source": [
    "R2=[]\n",
    "for n in range(10,100,5): \n",
    "    clf = XGBRegressor(n_estimators = n,random_state=42)\n",
    "    model = clf.fit(X_train, y_train)\n",
    "    y_pred = model.predict(X_test)\n",
    "    error = r2_score(y_test,y_pred)\n",
    "    R2.append(error) \n",
    "print(R2)"
   ]
  },
  {
   "cell_type": "code",
   "execution_count": 511,
   "metadata": {},
   "outputs": [
    {
     "data": {
      "text/plain": [
       "Text(0, 0.5, 'R2')"
      ]
     },
     "execution_count": 511,
     "metadata": {},
     "output_type": "execute_result"
    },
    {
     "data": {
      "image/png": "[encoded data removed]",
      "text/plain": [
       "<Figure size 576x288 with 1 Axes>"
      ]
     },
     "metadata": {
      "needs_background": "light"
     },
     "output_type": "display_data"
    }
   ],
   "source": [
    "plt.figure(figsize=(8, 4))\n",
    "plt.plot(range(10, 100,5), R2, 'x-')\n",
    "plt.grid(b=True, which='minor', color='w', linestyle='-')\n",
    "plt.xticks([10,20,30,40,50,60,70,80,90,100])\n",
    "plt.xlabel('N_Estimators')\n",
    "plt.ylabel('R2')"
   ]
  },
  {
   "cell_type": "code",
   "execution_count": 512,
   "metadata": {},
   "outputs": [
    {
     "data": {
      "image/png": "[encoded data removed]",
      "text/plain": [
       "<Figure size 432x288 with 1 Axes>"
      ]
     },
     "metadata": {
      "needs_background": "light"
     },
     "output_type": "display_data"
    }
   ],
   "source": [
    "plt.scatter(y_test,y_pred)\n",
    "plt.xlabel(\"Real\")\n",
    "plt.ylabel(\"Predicted\")\n",
    "plt.title(\"XGBoost\")\n",
    "plt.show()"
   ]
  },
  {
   "cell_type": "markdown",
   "metadata": {},
   "source": [
    "## 5)Neural Network"
   ]
  },
  {
   "cell_type": "code",
   "execution_count": 513,
   "metadata": {},
   "outputs": [],
   "source": [
    "from sklearn.neural_network import MLPRegressor"
   ]
  },
  {
   "cell_type": "code",
   "execution_count": 514,
   "metadata": {},
   "outputs": [],
   "source": [
    "dfreg = df.loc[:,['Open','Close','Adj_Close','Volume']]"
   ]
  },
  {
   "cell_type": "code",
   "execution_count": 515,
   "metadata": {},
   "outputs": [],
   "source": [
    "dfreg.fillna(value=-99999, inplace=True)\n",
    "\n",
    "forecast_out = int(math.ceil(0.02 * len(dfreg)))\n",
    "\n",
    "dfreg['label'] = dfreg['Adj_Close'].shift(-forecast_out)\n",
    "\n",
    "X = np.array(dfreg.drop(['label'], 1))\n",
    "\n",
    "X = preprocessing.scale(X)\n",
    "\n",
    "X = X[:-forecast_out]\n",
    "X_lately = X[-forecast_out:]\n",
    "\n",
    "y = np.array(dfreg['label'])\n",
    "\n",
    "y = y[:-forecast_out]"
   ]
  },
  {
   "cell_type": "code",
   "execution_count": 516,
   "metadata": {},
   "outputs": [],
   "source": [
    "X_train, X_test, y_train, y_test = train_test_split(X, y, test_size=0.3, random_state=42)"
   ]
  },
  {
   "cell_type": "code",
   "execution_count": 517,
   "metadata": {},
   "outputs": [
    {
     "data": {
      "text/plain": [
       "MLPRegressor(hidden_layer_sizes=(150, 100, 50), max_iter=225)"
      ]
     },
     "execution_count": 517,
     "metadata": {},
     "output_type": "execute_result"
    }
   ],
   "source": [
    "clfmlp=MLPRegressor(hidden_layer_sizes=(150,100,50), max_iter=225)\n",
    "clfmlp.fit(X_train, y_train)"
   ]
  },
  {
   "cell_type": "code",
   "execution_count": 518,
   "metadata": {},
   "outputs": [
    {
     "name": "stdout",
     "output_type": "stream",
     "text": [
      "0.9644739003200082\n"
     ]
    }
   ],
   "source": [
    "print(clfmlp.score(X_test, y_test))"
   ]
  },
  {
   "cell_type": "code",
   "execution_count": 519,
   "metadata": {},
   "outputs": [
    {
     "name": "stdout",
     "output_type": "stream",
     "text": [
      "RMSE value for max_iter=  200 is: 7.208124948971652\n",
      "RMSE value for max_iter=  225 is: 7.271108313624438\n",
      "RMSE value for max_iter=  250 is: 7.0163800195334085\n",
      "RMSE value for max_iter=  275 is: 7.027986608602642\n",
      "RMSE value for max_iter=  300 is: 6.762061990860993\n",
      "RMSE value for max_iter=  325 is: 6.968103253139186\n",
      "RMSE value for max_iter=  350 is: 6.6741376239854056\n",
      "RMSE value for max_iter=  375 is: 6.766241880433744\n",
      "RMSE value for max_iter=  400 is: 6.623090702895257\n"
     ]
    }
   ],
   "source": [
    "Rmse=[]\n",
    "for n in range(200,401,25):\n",
    "    clf = MLPRegressor(hidden_layer_sizes=(150,100,50), max_iter=n)\n",
    "    model = clf.fit(X_train, y_train)\n",
    "    y_pred = model.predict(X_test)\n",
    "    error=np.sqrt(metrics.mean_squared_error(y_test, y_pred))\n",
    "    Rmse.append(error)\n",
    "    print('RMSE value for max_iter= ' , n , 'is:', error)"
   ]
  },
  {
   "cell_type": "code",
   "execution_count": 520,
   "metadata": {},
   "outputs": [
    {
     "data": {
      "text/plain": [
       "Text(0, 0.5, 'RMSE')"
      ]
     },
     "execution_count": 520,
     "metadata": {},
     "output_type": "execute_result"
    },
    {
     "data": {
      "image/png": "[encoded data removed]",
      "text/plain": [
       "<Figure size 576x288 with 1 Axes>"
      ]
     },
     "metadata": {
      "needs_background": "light"
     },
     "output_type": "display_data"
    }
   ],
   "source": [
    "plt.figure(figsize=(8, 4))\n",
    "plt.plot(range(200, 401,25), Rmse, 'x-')\n",
    "plt.grid(b=True, which='minor', color='w', linestyle='-')\n",
    "plt.xlabel('Max_Iter')\n",
    "plt.ylabel('RMSE')"
   ]
  },
  {
   "cell_type": "code",
   "execution_count": 521,
   "metadata": {},
   "outputs": [],
   "source": [
    "def get_mape(y_true, y_pred): \n",
    "    \n",
    "    y_true, y_pred = np.array(y_true), np.array(y_pred)\n",
    "    return np.mean(np.abs((y_true - y_pred) / y_true)) * 100"
   ]
  },
  {
   "cell_type": "code",
   "execution_count": 522,
   "metadata": {},
   "outputs": [
    {
     "name": "stdout",
     "output_type": "stream",
     "text": [
      "[3.902978420842636, 3.752946902622113, 3.8014584166559646, 3.6837588768764222, 3.5938115504503148, 3.7572757039248894, 3.5222551400954196, 3.7994335520396163, 3.686480057654791]\n"
     ]
    }
   ],
   "source": [
    "mape=[]\n",
    "for n in range(200,401,25): \n",
    "    clf = MLPRegressor(hidden_layer_sizes=(150,100,50), max_iter=n)\n",
    "    model = clf.fit(X_train, y_train)\n",
    "    y_pred = model.predict(X_test)\n",
    "    error=get_mape(y_test,y_pred)\n",
    "    mape.append(error)\n",
    "print(mape)"
   ]
  },
  {
   "cell_type": "code",
   "execution_count": 523,
   "metadata": {},
   "outputs": [
    {
     "data": {
      "text/plain": [
       "Text(0, 0.5, 'MAPE')"
      ]
     },
     "execution_count": 523,
     "metadata": {},
     "output_type": "execute_result"
    },
    {
     "data": {
      "image/png": "[encoded data removed]",
      "text/plain": [
       "<Figure size 576x288 with 1 Axes>"
      ]
     },
     "metadata": {
      "needs_background": "light"
     },
     "output_type": "display_data"
    }
   ],
   "source": [
    "plt.figure(figsize=(8,4))\n",
    "plt.plot(range(200,401,25), mape, 'x-')\n",
    "plt.grid(b=True, which='minor', color='w', linestyle='-')\n",
    "plt.xlabel('Max_Iter')\n",
    "plt.ylabel('MAPE')"
   ]
  },
  {
   "cell_type": "code",
   "execution_count": 524,
   "metadata": {},
   "outputs": [
    {
     "name": "stdout",
     "output_type": "stream",
     "text": [
      "[0.9629038145616874, 0.9650084815679438, 0.9657881717248009, 0.9675813546868696, 0.9631918010934083, 0.9678051378867876, 0.9682960398276472, 0.9668153035711249, 0.9690968834156235]\n"
     ]
    }
   ],
   "source": [
    "R2=[]\n",
    "for n in range(200,401,25): \n",
    "    clf = MLPRegressor(hidden_layer_sizes=(150,100,50), max_iter=n)\n",
    "    model = clf.fit(X_train, y_train)\n",
    "    y_pred = model.predict(X_test)\n",
    "    error = r2_score(y_test,y_pred)\n",
    "    R2.append(error) \n",
    "print(R2)"
   ]
  },
  {
   "cell_type": "code",
   "execution_count": 525,
   "metadata": {},
   "outputs": [
    {
     "data": {
      "text/plain": [
       "Text(0, 0.5, 'R2')"
      ]
     },
     "execution_count": 525,
     "metadata": {},
     "output_type": "execute_result"
    },
    {
     "data": {
      "image/png": "[encoded data removed]",
      "text/plain": [
       "<Figure size 576x288 with 1 Axes>"
      ]
     },
     "metadata": {
      "needs_background": "light"
     },
     "output_type": "display_data"
    }
   ],
   "source": [
    "plt.figure(figsize=(8, 4))\n",
    "plt.plot(range(200, 401,25), R2, 'x-')\n",
    "plt.grid(b=True, which='minor', color='w', linestyle='-')\n",
    "plt.xlabel('Max_Iter')\n",
    "plt.ylabel('R2')"
   ]
  },
  {
   "cell_type": "code",
   "execution_count": 526,
   "metadata": {},
   "outputs": [
    {
     "data": {
      "image/png": "[encoded data removed]",
      "text/plain": [
       "<Figure size 432x288 with 1 Axes>"
      ]
     },
     "metadata": {
      "needs_background": "light"
     },
     "output_type": "display_data"
    }
   ],
   "source": [
    "plt.scatter(y_test,y_pred)\n",
    "plt.xlabel(\"Real\")\n",
    "plt.ylabel(\"Predicted\")\n",
    "plt.title(\"Neural Network\")\n",
    "plt.show()"
   ]
  }
 ],
 "metadata": {
  "kernelspec": {
   "display_name": "Python 3",
   "language": "python",
   "name": "python3"
  },
  "language_info": {
   "codemirror_mode": {
    "name": "ipython",
    "version": 3
   },
   "file_extension": ".py",
   "mimetype": "text/x-python",
   "name": "python",
   "nbconvert_exporter": "python",
   "pygments_lexer": "ipython3",
   "version": "3.8.5"
  }
 },
 "nbformat": 4,
 "nbformat_minor": 4
}
